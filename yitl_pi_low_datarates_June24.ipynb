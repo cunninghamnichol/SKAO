{
 "cells": [
  {
   "cell_type": "code",
   "execution_count": 1,
   "id": "8ba9430b-efb3-4920-a5b0-fa19fbdf2086",
   "metadata": {},
   "outputs": [],
   "source": [
    "#Estimate the data rates for the PI projects for YITL for Low\n",
    "#June 2024\n",
    "from datarates_definitions_june24 import visibility_size_low\n",
    "from datarates_definitions_june24 import image_size_low, contimage_size_low\n",
    "from datarates_definitions_june24 import pss, pst, transient_buffer,dynamic_spectrum, flowthrough_mode\n",
    "gbps_to_PB=(1/(8000*1e3))\n",
    "gbps_to_TB=(1/(8000))\n",
    "number_hours=4\n",
    "events_per_hour=2"
   ]
  },
  {
   "cell_type": "code",
   "execution_count": 45,
   "id": "b03a230b-92fb-4144-9723-a936f1139ef1",
   "metadata": {},
   "outputs": [
    {
     "name": "stdout",
     "output_type": "stream",
     "text": [
      "Flowthrough= 6.912 TB\n",
      "Dynamic spectrum 7.372800000000001 TB\n",
      "Transient Buffersize 4.99968 TB\n",
      "Continuum images size 0.1164GB, 0.0001136599TB,0.0PB\n",
      "cube size 438.8037GB, 0.4285192458TB,0.000418PB\n",
      "cube size 43.881GB, 0.0428525058TB,4.2e-05PB\n",
      "pi001 Non imaging= 19.2845 TB\n",
      "pi001 Imaging= 0.4716 TB\n",
      "commensal ---KSP-M \n",
      "-----KSP-M---- Cont+Transient---\n",
      "Continuum images size 17.4179GB, 0.0170097136TB,1.7e-05PB\n",
      "Transient Buffersize 7.0732800000000005 TB\n",
      "KSP-M= 7.0903 TB\n"
     ]
    }
   ],
   "source": [
    "#LOW-PI-001\n",
    "station_diameter=39\n",
    "number_stations=217\n",
    "max_baseline_length=6e3\n",
    "number_beams,number_beams_pst=1,2\n",
    "obs_time=4*3600\n",
    "n_pols,n_products=4,4\n",
    "ft=flowthrough_mode(number_beams_pst,obs_time)\n",
    "ds=dynamic_spectrum(number_beams_pst,obs_time)\n",
    "tb=transient_buffer(number_stations,number_beams,number_hours,events_per_hour)\n",
    "contsize=contimage_size_low(station_diameter,max_baseline_length,n_pols,n_products,number_beams)\n",
    "n_chan_image=32*1728\n",
    "image_cube=image_size_low(station_diameter,max_baseline_length,n_chan_image,n_pols,n_products,number_beams)\n",
    "n_chan_image=55296/10.\n",
    "cont_cube=image_size_low(station_diameter,max_baseline_length,n_chan_image,n_pols,n_products,number_beams)\n",
    "\n",
    "pi001_ni=ft+ds+tb\n",
    "pi001=contsize*2+cont_cube+image_cube\n",
    "print('pi001 Non imaging=',round(pi001_ni,4),'TB')\n",
    "print('pi001 Imaging=',round(pi001,4),'TB')\n",
    "\n",
    "print('commensal ---KSP-M ')\n",
    "station_diameter,max_baseline_length,number_stations=39,73.4e3,307\n",
    "n_pols,n_products=4,4\n",
    "print('-----KSP-M---- Cont+Transient---')\n",
    "contsize=contimage_size_low(station_diameter,max_baseline_length,n_pols,n_products,number_beams)\n",
    "tb=transient_buffer(number_stations,number_beams,number_hours,events_per_hour)\n",
    "kspm=tb+contsize\n",
    "print('KSP-M=',round(kspm,4),'TB')\n",
    "\n"
   ]
  },
  {
   "cell_type": "markdown",
   "id": "32bb6dca-061d-4f57-85c5-3cce3e3621c0",
   "metadata": {},
   "source": [
    "### LOW-PI-002"
   ]
  },
  {
   "cell_type": "code",
   "execution_count": 46,
   "id": "6dd10e68-8aa7-48bd-bd3f-37435291dfe4",
   "metadata": {
    "scrolled": true
   },
   "outputs": [
    {
     "name": "stdout",
     "output_type": "stream",
     "text": [
      "Flowthrough= 6.912 TB\n",
      "Dynamic spectrum 7.372800000000001 TB\n",
      "Transient Buffersize 7.0732800000000005 TB\n",
      "Continuum images size 17.7039GB, 0.0172889382TB,1.7e-05PB\n",
      "cube size 16686.8053GB, 16.2957083275TB,0.015914PB\n",
      "cube size 6674.7825GB, 6.5183422706TB,0.006366PB\n",
      "pi002 Non imaging= 21.3581 TB\n",
      "pi002 Imaging= 22.8486 TB\n",
      "commensal ---KSP-M , KSP-N\n",
      "-----KSP-M---- Cont+Transient---\n",
      "Continuum images size 17.4179GB, 0.0170097136TB,1.7e-05PB\n",
      "Transient Buffersize 7.0732800000000005 TB\n",
      "KSP-M= 7.0903 TB\n",
      "-----KSP-N---- PSS + Transient---\n",
      "PSS 5\n",
      "Transient Buffersize 7.0732800000000005 TB\n",
      "KSP-N= 12.0733 TB\n",
      "Total commensal= 19.1636 TB\n"
     ]
    }
   ],
   "source": [
    "#LOW-PI-002\n",
    "station_diameter=39\n",
    "number_stations=307\n",
    "max_baseline_length=74e3\n",
    "number_beams,number_beams_pst=1,2\n",
    "obs_time=4*3600\n",
    "n_pols,n_products=4,4\n",
    "ft=flowthrough_mode(number_beams_pst,obs_time)\n",
    "ds=dynamic_spectrum(number_beams_pst,obs_time)\n",
    "tb=transient_buffer(number_stations,number_beams,number_hours,events_per_hour)\n",
    "contsize=contimage_size_low(station_diameter,max_baseline_length,n_pols,n_products,number_beams)\n",
    "n_chan_image=8*1728\n",
    "image_cube=image_size_low(station_diameter,max_baseline_length,n_chan_image,n_pols,n_products,number_beams)\n",
    "n_chan_image=55296/10.\n",
    "cont_cube=image_size_low(station_diameter,max_baseline_length,n_chan_image,n_pols,n_products,number_beams)\n",
    "\n",
    "pi002_ni=ft+ds+tb\n",
    "pi002=contsize*2+cont_cube+image_cube\n",
    "print('pi002 Non imaging=',round(pi002_ni,4),'TB')\n",
    "print('pi002 Imaging=',round(pi002,4),'TB')\n",
    "\n",
    "print('commensal ---KSP-M , KSP-N')\n",
    "station_diameter,max_baseline_length,number_stations=39,73.4e3,307\n",
    "n_pols,n_products=4,4\n",
    "print('-----KSP-M---- Cont+Transient---')\n",
    "contsize=contimage_size_low(station_diameter,max_baseline_length,n_pols,n_products,number_beams)\n",
    "tb=transient_buffer(number_stations,number_beams,number_hours,events_per_hour)\n",
    "kspm=tb+contsize\n",
    "print('KSP-M=',round(kspm,4),'TB')\n",
    "\n",
    "print('-----KSP-N---- PSS + Transient---')\n",
    "pss_beams=250\n",
    "assumed_TB=5\n",
    "pss_size=pss(assumed_TB,pss_beams)\n",
    "tb=transient_buffer(number_stations,number_beams,number_hours,events_per_hour)\n",
    "kspn=tb+pss_size\n",
    "print('KSP-N=',round(kspn,4),'TB')\n",
    "\n",
    "print('Total commensal=',round(kspn+kspm,4),'TB')\n"
   ]
  },
  {
   "cell_type": "markdown",
   "id": "3c524b1f-31c3-4cc3-8506-80ef12abbcbd",
   "metadata": {},
   "source": [
    "### LOW-PI-003"
   ]
  },
  {
   "cell_type": "code",
   "execution_count": 47,
   "id": "753a208a-37e3-4fda-988e-3f0e75767767",
   "metadata": {},
   "outputs": [
    {
     "name": "stdout",
     "output_type": "stream",
     "text": [
      "Continuum images size 17.4179GB, 0.0170097136TB,1.7e-05PB\n",
      "cube size 6566.9816GB, 6.413067948TB,0.006263PB\n",
      "pi003 Imaging= 6.4471 TB\n",
      "commensal ---KSP-M , KSP-N\n",
      "-----KSP-M---- Cont+Transient---\n",
      "Continuum images size 17.4179GB, 0.0170097136TB,1.7e-05PB\n",
      "Transient Buffersize 7.0732800000000005 TB\n",
      "KSP-M= 7.0903 TB\n",
      "-----KSP-N---- PSS + Transient---\n",
      "PSS 5\n",
      "Transient Buffersize 7.0732800000000005 TB\n",
      "KSP-N= 12.0733 TB\n",
      "Total commensal= 19.1636 TB\n"
     ]
    }
   ],
   "source": [
    "#LOW-PI-003\n",
    "station_diameter,max_baseline_length,number_stations=39,73.4e3,307\n",
    "number_beams,number_beams_pst=1,1\n",
    "obs_time=4*3600\n",
    "n_pols,n_products=4,4\n",
    "contsize=contimage_size_low(station_diameter,max_baseline_length,n_pols,n_products,number_beams)\n",
    "n_chan_image=55296/10.\n",
    "cont_cube=image_size_low(station_diameter,max_baseline_length,n_chan_image,n_pols,n_products,number_beams)\n",
    "\n",
    "pi003=contsize*2+cont_cube\n",
    "print('pi003 Imaging=',round(pi003,4),'TB')\n",
    "\n",
    "print('commensal ---KSP-M , KSP-N')\n",
    "station_diameter,max_baseline_length,number_stations=39,73.4e3,307\n",
    "n_pols,n_products=4,4\n",
    "print('-----KSP-M---- Cont+Transient---')\n",
    "contsize=contimage_size_low(station_diameter,max_baseline_length,n_pols,n_products,number_beams)\n",
    "tb=transient_buffer(number_stations,number_beams,number_hours,events_per_hour)\n",
    "kspm=tb+contsize\n",
    "print('KSP-M=',round(kspm,4),'TB')\n",
    "\n",
    "print('-----KSP-N---- PSS + Transient---')\n",
    "pss_beams=250\n",
    "assumed_TB=5\n",
    "pss_size=pss(assumed_TB,pss_beams)\n",
    "tb=transient_buffer(number_stations,number_beams,number_hours,events_per_hour)\n",
    "kspn=tb+pss_size\n",
    "print('KSP-N=',round(kspn,4),'TB')\n",
    "print('Total commensal=',round(kspn+kspm,4),'TB')\n"
   ]
  },
  {
   "cell_type": "markdown",
   "id": "cc721377-dee2-4c8d-ae39-d1a7e401383c",
   "metadata": {},
   "source": [
    "### LOW-PI-004"
   ]
  },
  {
   "cell_type": "code",
   "execution_count": 48,
   "id": "1e73a2e3-25d1-4e7a-89c9-1dbeb4fd499a",
   "metadata": {},
   "outputs": [
    {
     "name": "stdout",
     "output_type": "stream",
     "text": [
      "Continuum images size 17.4179GB, 0.0170097136TB,1.7e-05PB\n",
      "cube size 6566.9816GB, 6.413067948TB,0.006263PB\n",
      "Transient Buffersize 7.0732800000000005 TB\n",
      "PST= 9.576 TB\n",
      "PSS 5\n",
      "Dynamic spectrum 7.372800000000001 TB\n",
      "pi004a Imaging= 6.4471 TB\n",
      "pi004a non Imaging= 21.6493 TB\n",
      "pi004b Imaging= 6.4471 TB\n",
      "pi004b non Imaging= 24.0221 TB\n",
      "pi004d Imaging= 6.4471 TB\n",
      "pi004d non Imaging= 7.0733 TB\n",
      "Transient Buffersize 7.0732800000000005 TB\n",
      "PST= 9.576 TB\n",
      "PSS 5\n",
      "Dynamic spectrum 7.372800000000001 TB\n",
      "pi004c Imaging= 6.4471 TB\n",
      "pi004c non Imaging= 29.0221 TB\n",
      "commensal ---KSP-M , KSP-N\n",
      "-----KSP-M---- Cont+Transient---\n",
      "Continuum images size 17.4179GB, 0.0170097136TB,1.7e-05PB\n",
      "Transient Buffersize 7.0732800000000005 TB\n",
      "KSP-M= 7.0903 TB\n",
      "-----KSP-N---- PSS + Transient---\n",
      "PSS 5\n",
      "Transient Buffersize 7.0732800000000005 TB\n",
      "KSP-N= 12.0733 TB\n",
      "-----KSP-P----Dynamic ---\n",
      "Continuum images size 17.4179GB, 0.0170097136TB,1.7e-05PB\n",
      "Dynamic spectrum 7.372800000000001 TB\n",
      "Total commensal M and N= 19.1636 TB\n",
      "Total commensal M, P and N= 26.5704 TB\n"
     ]
    }
   ],
   "source": [
    "#LOW-PI-004a,b,c,d\n",
    "station_diameter,max_baseline_length,number_stations=39,73.4e3,307\n",
    "number_beams,number_beams_pst=1,1\n",
    "obs_time=4*3600\n",
    "n_pols,n_products=4,4\n",
    "contsize=contimage_size_low(station_diameter,max_baseline_length,n_pols,n_products,number_beams)\n",
    "n_chan_image=55296/10.\n",
    "cont_cube=image_size_low(station_diameter,max_baseline_length,n_chan_image,n_pols,n_products,number_beams)\n",
    "pss_beams,number_beams_pst=2,2\n",
    "assumed_TB=5\n",
    "tb=transient_buffer(number_stations,number_beams,number_hours,events_per_hour)\n",
    "pstsize=pst(number_beams_pst,obs_time)\n",
    "psssize=pss(assumed_TB,pss_beams)\n",
    "ds=dynamic_spectrum(number_beams_pst,obs_time)\n",
    "\n",
    "pi004a_ni=pstsize+psssize+tb\n",
    "pi004a=contsize*2+cont_cube\n",
    "print('pi004a Imaging=',round(pi004a,4),'TB')\n",
    "print('pi004a non Imaging=',round(pi004a_ni,4),'TB')\n",
    "\n",
    "pi004b_ni=pstsize+ds+tb\n",
    "pi004b=contsize*2+cont_cube\n",
    "print('pi004b Imaging=',round(pi004b,4),'TB')\n",
    "print('pi004b non Imaging=',round(pi004b_ni,4),'TB')\n",
    "\n",
    "pi004d_ni=tb\n",
    "pi004d=contsize*2+cont_cube\n",
    "print('pi004d Imaging=',round(pi004d,4),'TB')\n",
    "print('pi004d non Imaging=',round(pi004d_ni,4),'TB')\n",
    "\n",
    "pss_beams,number_beams_pst=3,2\n",
    "assumed_TB=5\n",
    "tb=transient_buffer(number_stations,number_beams,number_hours,events_per_hour)\n",
    "pstsize=pst(number_beams_pst,obs_time)\n",
    "psssize=pss(assumed_TB,pss_beams)\n",
    "ds=dynamic_spectrum(number_beams_pst,obs_time)\n",
    "pi004c_ni=pstsize+psssize+tb+ds\n",
    "pi004c=contsize*2+cont_cube\n",
    "print('pi004c Imaging=',round(pi004c,4),'TB')\n",
    "print('pi004c non Imaging=',round(pi004c_ni,4),'TB')\n",
    "\n",
    "\n",
    "print('commensal ---KSP-M , KSP-N')\n",
    "station_diameter,max_baseline_length,number_stations=39,73.4e3,307\n",
    "n_pols,n_products=4,4\n",
    "print('-----KSP-M---- Cont+Transient---')\n",
    "contsize=contimage_size_low(station_diameter,max_baseline_length,n_pols,n_products,number_beams)\n",
    "tb=transient_buffer(number_stations,number_beams,number_hours,events_per_hour)\n",
    "kspm=tb+contsize\n",
    "print('KSP-M=',round(kspm,4),'TB')\n",
    "\n",
    "print('-----KSP-N---- PSS + Transient---')\n",
    "pss_beams=250\n",
    "assumed_TB=5\n",
    "pss_size=pss(assumed_TB,pss_beams)\n",
    "tb=transient_buffer(number_stations,number_beams,number_hours,events_per_hour)\n",
    "kspn=tb+pss_size\n",
    "print('KSP-N=',round(kspn,4),'TB')\n",
    "\n",
    "print('-----KSP-P----Dynamic ---')\n",
    "contsize=contimage_size_low(station_diameter,max_baseline_length,n_pols,n_products,number_beams)\n",
    "ds=dynamic_spectrum(number_beams_pst,obs_time)\n",
    "kspp=ds+2*contsize\n",
    "print('Total commensal M and N=',round(kspn+kspm,4),'TB')\n",
    "print('Total commensal M, P and N=',round(kspn+kspm+kspp,4),'TB')\n"
   ]
  },
  {
   "cell_type": "markdown",
   "id": "612d8c1d-1cd6-4d1f-813a-a757a86b41ef",
   "metadata": {},
   "source": [
    "### LOW-PI-005"
   ]
  },
  {
   "cell_type": "code",
   "execution_count": 49,
   "id": "0ca42323-0875-42a0-bc92-0a3b9f06e04f",
   "metadata": {},
   "outputs": [
    {
     "name": "stdout",
     "output_type": "stream",
     "text": [
      "Continuum images size 69.6718GB, 0.0680388545TB,6.6e-05PB\n",
      "pi005 Imaging= 32.6587 TB\n",
      "commensal ---KSP-M , KSP-N\n",
      "-----KSP-M---- Cont+Transient---\n",
      "Continuum images size 69.6718GB, 0.0680388545TB,6.6e-05PB\n",
      "Transient Buffersize 28.293120000000002 TB\n",
      "KSP-M= 28.3612 TB\n",
      "-----KSP-N---- PSS + Transient---\n",
      "PSS 5\n",
      "Transient Buffersize 28.293120000000002 TB\n",
      "KSP-N= 33.2931 TB\n",
      "Total commensal M and N= 61.6543 TB\n"
     ]
    }
   ],
   "source": [
    "#LOW-PI-005\n",
    "station_diameter,max_baseline_length,number_stations=39,73.4e3,307\n",
    "number_beams,number_beams_pst=4,4\n",
    "obs_time=4*3600\n",
    "n_pols,n_products=4,4\n",
    "contsize=contimage_size_low(station_diameter,max_baseline_length,n_pols,n_products,number_beams)\n",
    "\n",
    "pi005=contsize*2*4*60\n",
    "print('pi005 Imaging=',round(pi005,4),'TB')\n",
    "\n",
    "print('commensal ---KSP-M , KSP-N')\n",
    "station_diameter,max_baseline_length,number_stations=39,73.4e3,307\n",
    "n_pols,n_products=4,4\n",
    "print('-----KSP-M---- Cont+Transient---')\n",
    "contsize=contimage_size_low(station_diameter,max_baseline_length,n_pols,n_products,number_beams)\n",
    "tb=transient_buffer(number_stations,number_beams,number_hours,events_per_hour)\n",
    "kspm=tb+contsize\n",
    "print('KSP-M=',round(kspm,4),'TB')\n",
    "\n",
    "print('-----KSP-N---- PSS + Transient---')\n",
    "pss_beams=250\n",
    "assumed_TB=5\n",
    "pss_size=pss(assumed_TB,pss_beams)\n",
    "tb=transient_buffer(number_stations,number_beams,number_hours,events_per_hour)\n",
    "kspn=tb+pss_size\n",
    "print('KSP-N=',round(kspn,4),'TB')\n",
    "print('Total commensal M and N=',round(kspn+kspm,4),'TB')\n"
   ]
  },
  {
   "cell_type": "markdown",
   "id": "ed3fd6bf-1248-4ccf-b249-d6d296dc88ec",
   "metadata": {},
   "source": [
    "### LOW-PI-006"
   ]
  },
  {
   "cell_type": "code",
   "execution_count": 20,
   "id": "720e6a8e-0329-4330-acfd-3333a044fa47",
   "metadata": {},
   "outputs": [
    {
     "name": "stdout",
     "output_type": "stream",
     "text": [
      "Continuum images size 34.8359GB, 0.0340194272TB,3.3e-05PB\n",
      "cube size 13133.9632GB, 12.826135896TB,0.012526PB\n",
      "Dynamic spectrum 7.372800000000001 TB\n",
      "pi006 Imaging= 12.8942 TB\n",
      "pi006 Non Imaging= 7.3728 TB\n",
      "commensal ---KSP-Q , KSP-N\n",
      "-----KSP-Q---- Cont+Dynamic---\n",
      "Continuum images size 34.8359GB, 0.0340194272TB,3.3e-05PB\n",
      "Dynamic spectrum 7.372800000000001 TB\n",
      "KSP-Q 7.4408 TB\n",
      "-----KSP-N---- PSS + Transient---\n",
      "PSS 5\n",
      "Transient Buffersize 14.146560000000001 TB\n",
      "KSP-N= 19.1466 TB\n",
      "Total commensal Q and N= 26.5874 TB\n"
     ]
    }
   ],
   "source": [
    "#LOW-PI-006\n",
    "station_diameter,max_baseline_length,number_stations=39,73.4e3,307\n",
    "number_beams,number_beams_pst=2,2\n",
    "obs_time=4*3600\n",
    "n_pols,n_products=4,4\n",
    "contsize=contimage_size_low(station_diameter,max_baseline_length,n_pols,n_products,number_beams)\n",
    "n_chan_image=55296/10.\n",
    "cont_cube=image_size_low(station_diameter,max_baseline_length,n_chan_image,n_pols,n_products,number_beams)\n",
    "ds=dynamic_spectrum(number_beams_pst,obs_time)\n",
    "\n",
    "pi006=contsize*2+cont_cube\n",
    "print('pi006 Imaging=',round(pi006,4),'TB')\n",
    "pi006_ni=ds\n",
    "print('pi006 Non Imaging=',round(pi006_ni,4),'TB')\n",
    "print('commensal ---KSP-Q , KSP-N')\n",
    "\n",
    "print('-----KSP-Q---- Cont+Dynamic---')\n",
    "contsize=contimage_size_low(station_diameter,max_baseline_length,n_pols,n_products,number_beams)\n",
    "ds=dynamic_spectrum(number_beams_pst,obs_time)\n",
    "kspq=ds+2*contsize\n",
    "\n",
    "print('KSP-Q',round(kspq,4),'TB')\n",
    "print('-----KSP-N---- PSS + Transient---')\n",
    "pss_beams=250\n",
    "assumed_TB=5\n",
    "pss_size=pss(assumed_TB,pss_beams)\n",
    "tb=transient_buffer(number_stations,number_beams,number_hours,events_per_hour)\n",
    "kspn=tb+pss_size\n",
    "print('KSP-N=',round(kspn,4),'TB')\n",
    "print('Total commensal Q and N=',round(kspq+kspn,4),'TB')\n"
   ]
  },
  {
   "cell_type": "markdown",
   "id": "6502e0d2-c506-4dce-b506-2016affa3dfe",
   "metadata": {},
   "source": [
    "### LOW-PI-007"
   ]
  },
  {
   "cell_type": "code",
   "execution_count": 50,
   "id": "103d98fd-1912-4b0d-98db-cfe4d97faca4",
   "metadata": {},
   "outputs": [
    {
     "name": "stdout",
     "output_type": "stream",
     "text": [
      "Continuum images size 327.8255GB, 0.320142135TB,0.000313PB\n",
      "Transient Buffersize 113.17248000000001 TB\n",
      "pi007 Imaging= 64.0284 TB\n",
      "pi007 Non Imaging= 113.1725 TB\n",
      "commensal ---KSP-M , KSP-O\n",
      "-----KSP-M---- Cont+Transient---\n",
      "Continuum images size 109.2752GB, 0.106714045TB,0.000104PB\n",
      "Transient Buffersize 113.17248000000001 TB\n",
      "KSP-M= 113.2792 TB\n",
      "-----KSP-O---- 8 zooms---\n",
      "cube size 283242.5137GB, 276.6040173204TB,0.270121PB\n",
      "KSP-O 276.604 TB\n",
      "Total commensal M  113.2792 TB\n"
     ]
    }
   ],
   "source": [
    "#LOW-PI-007\n",
    "station_diameter,max_baseline_length,number_stations=39,65e3,307\n",
    "number_beams,number_beams_pst=48,1\n",
    "obs_time=4*3600\n",
    "n_pols,n_products=2,4\n",
    "contsize=contimage_size_low(station_diameter,max_baseline_length,n_pols,n_products,number_beams)\n",
    "number_beams=16\n",
    "tb=transient_buffer(number_stations,number_beams,number_hours,events_per_hour)\n",
    "\n",
    "pi007=contsize*50*4.\n",
    "print('pi007 Imaging=',round(pi007,4),'TB')\n",
    "pi007_ni=tb\n",
    "print('pi007 Non Imaging=',round(pi007_ni,4),'TB')\n",
    "print('commensal ---KSP-M , KSP-O')\n",
    "print('-----KSP-M---- Cont+Transient---')\n",
    "contsize=contimage_size_low(station_diameter,max_baseline_length,n_pols,n_products,number_beams)\n",
    "number_beams=16\n",
    "tb=transient_buffer(number_stations,number_beams,number_hours,events_per_hour)\n",
    "kspm=tb+contsize\n",
    "print('KSP-M=',round(kspm,4),'TB')\n",
    "print('-----KSP-O---- 8 zooms---')\n",
    "n_chan_image=19008\n",
    "n_pols=4\n",
    "kspo=image_size_low(station_diameter,max_baseline_length,n_chan_image,n_pols,n_products,number_beams)\n",
    "print('KSP-O',round(kspo,4),'TB')\n",
    "\n",
    "print('Total commensal M ',round(kspm,4),'TB')"
   ]
  },
  {
   "cell_type": "markdown",
   "id": "f59b576b-f909-4275-b3bf-72d84c948780",
   "metadata": {},
   "source": [
    "### LOW-PI-008"
   ]
  },
  {
   "cell_type": "code",
   "execution_count": 74,
   "id": "1a407331-a8ab-4f2e-a7b8-a4e76707fd77",
   "metadata": {},
   "outputs": [
    {
     "name": "stdout",
     "output_type": "stream",
     "text": [
      "Continuum images size 0.0005GB, 5.052e-07TB,0.0PB\n",
      "cube size 0.195GB, 0.0001904556TB,0.0PB\n",
      "Dynamic spectrum 3.6864000000000003 TB\n",
      "pi008 Imaging= 0.0002 TB\n",
      "pi008 Non Imaging= 3.6864 TB\n",
      "-----KSP-M---- Cont+Transient---\n",
      "Continuum images size 0.0005GB, 5.052e-07TB,0.0PB\n",
      "Transient Buffersize 7.0732800000000005 TB\n",
      "KSP-M= 7.0733 TB\n"
     ]
    }
   ],
   "source": [
    "#LOW-PI-008  Low_inner_400m_sparse_AAstar\n",
    "#Continuum/Dynamic\n",
    "station_diameter,max_baseline_length=39,400\n",
    "number_beams,number_beams_pst=1,1\n",
    "obs_time=4*3600\n",
    "n_pols,n_products=4,4\n",
    "contsize=contimage_size_low(station_diameter,max_baseline_length,n_pols,n_products,number_beams)\n",
    "n_chan_image=55296/10.\n",
    "cont_cube=image_size_low(station_diameter,max_baseline_length,n_chan_image,n_pols,n_products,number_beams)\n",
    "\n",
    "ds=dynamic_spectrum(number_beams_pst,obs_time)\n",
    "pi008=contsize*2+cont_cube\n",
    "print('pi008 Imaging=',round(pi008,4),'TB')\n",
    "pi008_ni=ds\n",
    "print('pi008 Non Imaging=',round(pi008_ni,4),'TB')\n",
    "\n",
    "print('-----KSP-M---- Cont+Transient---')\n",
    "number_stations=307\n",
    "contsize=contimage_size_low(station_diameter,max_baseline_length,n_pols,n_products,number_beams)\n",
    "tb=transient_buffer(number_stations,number_beams,number_hours,events_per_hour)\n",
    "kspm=tb+contsize\n",
    "print('KSP-M=',round(kspm,4),'TB')"
   ]
  },
  {
   "cell_type": "markdown",
   "id": "7713d558-4464-4a93-91f9-816ed8568727",
   "metadata": {},
   "source": [
    "### LOW-PI-009"
   ]
  },
  {
   "cell_type": "code",
   "execution_count": 61,
   "id": "962ba1a7-fc07-419f-821d-e4452e4f0b0a",
   "metadata": {},
   "outputs": [
    {
     "name": "stdout",
     "output_type": "stream",
     "text": [
      "Continuum images size 0.0073GB, 7.1037e-06TB,0.0PB\n",
      "cube size 2.7427GB, 0.0026784027TB,3e-06PB\n",
      "pi009 Imaging= 0.0027 TB\n",
      "-----KSP-M---- Cont+Transient---\n",
      "Continuum images size 0.0073GB, 7.1037e-06TB,0.0PB\n",
      "Transient Buffersize 7.0732800000000005 TB\n",
      "KSP-M= 7.0733 TB\n"
     ]
    }
   ],
   "source": [
    "#LOW-PI-009 - Low_inner_r3km_AAstar\n",
    "station_diameter,max_baseline_length=39,3e3\n",
    "number_beams,number_beams_pst=1,1\n",
    "obs_time=4*3600\n",
    "n_pols,n_products=1,4\n",
    "contsize=contimage_size_low(station_diameter,max_baseline_length,n_pols,n_products,number_beams)\n",
    "n_chan_image=55296/10.\n",
    "cont_cube=image_size_low(station_diameter,max_baseline_length,n_chan_image,n_pols,n_products,number_beams)\n",
    "pi009=contsize*2+cont_cube\n",
    "print('pi009 Imaging=',round(pi009,4),'TB')\n",
    "print('-----KSP-M---- Cont+Transient---')\n",
    "number_stations=307\n",
    "contsize=contimage_size_low(station_diameter,max_baseline_length,n_pols,n_products,number_beams)\n",
    "tb=transient_buffer(number_stations,number_beams,number_hours,events_per_hour)\n",
    "kspm=tb+contsize\n",
    "print('KSP-M=',round(kspm,4),'TB')"
   ]
  },
  {
   "cell_type": "markdown",
   "id": "9e896132-abd5-4a35-9250-3c9dcdf305f3",
   "metadata": {},
   "source": [
    "### LOW-PI-010"
   ]
  },
  {
   "cell_type": "code",
   "execution_count": 60,
   "id": "c634874a-b5f8-4182-b23f-609f67ee872f",
   "metadata": {},
   "outputs": [
    {
     "name": "stdout",
     "output_type": "stream",
     "text": [
      "Continuum images size 17.7039GB, 0.0172889382TB,1.7e-05PB\n",
      "cube size 6674.7825GB, 6.5183422706TB,0.006366PB\n",
      "pi010 Imaging= 6.5529 TB\n",
      "commensal ---KSP-M , KSP-P, KSP-Q\n",
      "-----KSP-M---- Cont+Transient---\n",
      "Continuum images size 17.7039GB, 0.0172889382TB,1.7e-05PB\n",
      "Transient Buffersize 7.0732800000000005 TB\n",
      "KSP-M= 7.0906 TB\n",
      "-----KSP-Q---- Cont+Dynamic---\n",
      "Continuum images size 17.7039GB, 0.0172889382TB,1.7e-05PB\n",
      "Dynamic spectrum 3.6864000000000003 TB\n",
      "KSP-Q 3.721 TB\n",
      "-----KSP-P----Dynamic ---\n",
      "Continuum images size 17.7039GB, 0.0172889382TB,1.7e-05PB\n",
      "Dynamic spectrum 3.6864000000000003 TB\n",
      "KSP-P 3.721 TB\n",
      "Total commensal M  14.5325 TB\n"
     ]
    }
   ],
   "source": [
    "#LOW-PI-010\n",
    "station_diameter,max_baseline_length,number_stations=39,74e3,307\n",
    "number_beams,number_beams_pst=1,1\n",
    "obs_time=4*3600\n",
    "n_pols,n_products=4,4\n",
    "contsize=contimage_size_low(station_diameter,max_baseline_length,n_pols,n_products,number_beams)\n",
    "n_chan_image=55296/10.\n",
    "cont_cube=image_size_low(station_diameter,max_baseline_length,n_chan_image,n_pols,n_products,number_beams)\n",
    "pi010=contsize*2+cont_cube\n",
    "print('pi010 Imaging=',round(pi010,4),'TB')\n",
    "\n",
    "print('commensal ---KSP-M , KSP-P, KSP-Q')\n",
    "print('-----KSP-M---- Cont+Transient---')\n",
    "contsize=contimage_size_low(station_diameter,max_baseline_length,n_pols,n_products,number_beams)\n",
    "tb=transient_buffer(number_stations,number_beams,number_hours,events_per_hour)\n",
    "kspm=tb+contsize\n",
    "print('KSP-M=',round(kspm,4),'TB')\n",
    "\n",
    "print('-----KSP-Q---- Cont+Dynamic---')\n",
    "contsize=contimage_size_low(station_diameter,max_baseline_length,n_pols,n_products,number_beams)\n",
    "ds=dynamic_spectrum(number_beams_pst,obs_time)\n",
    "kspq=ds+2*contsize\n",
    "print('KSP-Q',round(kspq,4),'TB')\n",
    "\n",
    "print('-----KSP-P----Dynamic ---')\n",
    "contsize=contimage_size_low(station_diameter,max_baseline_length,n_pols,n_products,number_beams)\n",
    "ds=dynamic_spectrum(number_beams_pst,obs_time)\n",
    "kspp=ds+2*contsize\n",
    "print('KSP-P',round(kspp,4),'TB')\n",
    "\n",
    "print('Total commensal M ',round(kspm+kspp+kspq,4),'TB')"
   ]
  },
  {
   "cell_type": "markdown",
   "id": "69681808-576a-4968-a469-7a3eefc2fdc4",
   "metadata": {},
   "source": [
    "### LOW-PI-011"
   ]
  },
  {
   "cell_type": "code",
   "execution_count": 66,
   "id": "2f0c42e0-6d38-4a28-b1a8-c5351f37f194",
   "metadata": {},
   "outputs": [
    {
     "name": "stdout",
     "output_type": "stream",
     "text": [
      "Continuum images size 17.4179GB, 0.0170097136TB,1.7e-05PB\n",
      "cube size 6566.9816GB, 6.413067948TB,0.006263PB\n",
      "cube size 6156.5514GB, 6.0122572416TB,0.005871PB\n",
      "pi011 Imaging= 12.4423 TB\n",
      "commensal ---KSP-Q , KSP-N\n",
      "-----KSP-M---- Cont+Transient---\n",
      "Continuum images size 4.3545GB, 0.0042524284TB,4e-06PB\n",
      "Transient Buffersize 7.0732800000000005 TB\n",
      "KSP-M= 7.0775 TB\n",
      "-----KSP-N---- PSS + Transient---\n",
      "PSS 5\n",
      "Transient Buffersize 7.0732800000000005 TB\n",
      "KSP-N= 12.0733 TB\n",
      "Total commensal M and N= 19.1508 TB\n"
     ]
    }
   ],
   "source": [
    "#Low_full_AAstar Continuum + IVUQ cubes \n",
    "#LOW-PI-011\n",
    "station_diameter,max_baseline_length,number_stations=39,73.4e3,307\n",
    "number_beams,number_beams_pst=1,1\n",
    "obs_time=4*3600\n",
    "n_pols,n_products=4,4\n",
    "contsize=contimage_size_low(station_diameter,max_baseline_length,n_pols,n_products,number_beams)\n",
    "n_chan_image=55296/10.\n",
    "cont_cube=image_size_low(station_diameter,max_baseline_length,n_chan_image,n_pols,n_products,number_beams)\n",
    "n_chan_image=12*1728\n",
    "n_pols=1\n",
    "image_cube=image_size_low(station_diameter,max_baseline_length,n_chan_image,n_pols,n_products,number_beams)\n",
    "\n",
    "pi011=contsize+cont_cube+image_cube\n",
    "print('pi011 Imaging=',round(pi011,4),'TB')\n",
    "print('commensal ---KSP-M , KSP-N')\n",
    "print('-----KSP-M---- Cont+Transient---')\n",
    "contsize=contimage_size_low(station_diameter,max_baseline_length,n_pols,n_products,number_beams)\n",
    "tb=transient_buffer(number_stations,number_beams,number_hours,events_per_hour)\n",
    "kspm=tb+contsize\n",
    "print('KSP-M=',round(kspm,4),'TB')\n",
    "print('-----KSP-N---- PSS + Transient---')\n",
    "pss_beams=250\n",
    "assumed_TB=5\n",
    "pss_size=pss(assumed_TB,pss_beams)\n",
    "tb=transient_buffer(number_stations,number_beams,number_hours,events_per_hour)\n",
    "kspn=tb+pss_size\n",
    "print('KSP-N=',round(kspn,4),'TB')\n",
    "print('Total commensal M and N=',round(kspm+kspn,4),'TB')\n"
   ]
  },
  {
   "cell_type": "markdown",
   "id": "de741b81-adff-469a-b44a-00d80340648c",
   "metadata": {},
   "source": [
    "### LOW-PI-012"
   ]
  },
  {
   "cell_type": "code",
   "execution_count": 68,
   "id": "b57ebe54-4d57-4c1e-b426-d8e215fee470",
   "metadata": {},
   "outputs": [
    {
     "name": "stdout",
     "output_type": "stream",
     "text": [
      "Continuum images size 17.4179GB, 0.0170097136TB,1.7e-05PB\n",
      "cube size 6566.9816GB, 6.413067948TB,0.006263PB\n",
      "pi012 Imaging= 6.4301 TB\n",
      "commensal ---KSP-Q , KSP-N\n",
      "-----KSP-M---- Cont+Transient---\n",
      "Continuum images size 17.4179GB, 0.0170097136TB,1.7e-05PB\n",
      "Transient Buffersize 7.0732800000000005 TB\n",
      "KSP-M= 7.0903 TB\n",
      "-----KSP-Q---- Cont+Dynamic---\n",
      "Continuum images size 17.4179GB, 0.0170097136TB,1.7e-05PB\n",
      "Dynamic spectrum 3.6864000000000003 TB\n",
      "KSP-Q 3.7204 TB\n",
      "-----KSP-P----Dynamic ---\n",
      "Continuum images size 17.4179GB, 0.0170097136TB,1.7e-05PB\n",
      "Dynamic spectrum 3.6864000000000003 TB\n",
      "KSP-P 3.7204 TB\n",
      "Total commensal M and P,Q= 14.5311 TB\n"
     ]
    }
   ],
   "source": [
    "#Low_full_AAstar Continuum + IVUQ cubes \n",
    "#LOW-PI-012\n",
    "station_diameter,max_baseline_length,number_stations=39,73.4e3,307\n",
    "number_beams,number_beams_pst=1,1\n",
    "obs_time=4*3600\n",
    "n_pols,n_products=4,4\n",
    "contsize=contimage_size_low(station_diameter,max_baseline_length,n_pols,n_products,number_beams)\n",
    "n_chan_image=55296/10.\n",
    "cont_cube=image_size_low(station_diameter,max_baseline_length,n_chan_image,n_pols,n_products,number_beams)\n",
    "\n",
    "pi012=contsize+cont_cube\n",
    "print('pi012 Imaging=',round(pi012,4),'TB')\n",
    "print('commensal ---KSP-Q , KSP-N')\n",
    "print('-----KSP-M---- Cont+Transient---')\n",
    "contsize=contimage_size_low(station_diameter,max_baseline_length,n_pols,n_products,number_beams)\n",
    "tb=transient_buffer(number_stations,number_beams,number_hours,events_per_hour)\n",
    "kspm=tb+contsize\n",
    "print('KSP-M=',round(kspm,4),'TB')\n",
    "print('-----KSP-Q---- Cont+Dynamic---')\n",
    "contsize=contimage_size_low(station_diameter,max_baseline_length,n_pols,n_products,number_beams)\n",
    "ds=dynamic_spectrum(number_beams_pst,obs_time)\n",
    "kspq=ds+2*contsize\n",
    "print('KSP-Q',round(kspq,4),'TB')\n",
    "\n",
    "print('-----KSP-P----Dynamic ---')\n",
    "contsize=contimage_size_low(station_diameter,max_baseline_length,n_pols,n_products,number_beams)\n",
    "ds=dynamic_spectrum(number_beams_pst,obs_time)\n",
    "kspp=ds+2*contsize\n",
    "print('KSP-P',round(kspp,4),'TB')\n",
    "print('Total commensal M and P,Q=',round(kspm+kspp+kspq,4),'TB')\n"
   ]
  },
  {
   "cell_type": "markdown",
   "id": "3a17f5f2-1d09-4092-9b84-6c52999853f6",
   "metadata": {},
   "source": [
    "### LOW-PI-013"
   ]
  },
  {
   "cell_type": "code",
   "execution_count": 70,
   "id": "14a7f364-20da-4c74-a7eb-08d3631af0f6",
   "metadata": {},
   "outputs": [
    {
     "name": "stdout",
     "output_type": "stream",
     "text": [
      "Continuum images size 17.4179GB, 0.0170097136TB,1.7e-05PB\n",
      "cube size 6566.9816GB, 6.413067948TB,0.006263PB\n",
      "cube size 4104.4006GB, 4.0082037098TB,0.003914PB\n",
      "pi013 Imaging= 10.4383 TB\n",
      "commensal ---KSP-M , KSP-N\n",
      "-----KSP-M---- Cont+Transient---\n",
      "Continuum images size 4.3545GB, 0.0042524284TB,4e-06PB\n",
      "Transient Buffersize 7.0732800000000005 TB\n",
      "KSP-M= 7.0775 TB\n",
      "-----KSP-N---- PSS + Transient---\n",
      "PSS 5\n",
      "Transient Buffersize 7.0732800000000005 TB\n",
      "KSP-N= 12.0733 TB\n",
      "Total commensal M and N= 19.1508 TB\n"
     ]
    }
   ],
   "source": [
    "#Low_full_AAstar Continuum + IVUQ cubes \n",
    "#LOW-PI-013\n",
    "station_diameter,max_baseline_length,number_stations=39,73.4e3,307\n",
    "number_beams,number_beams_pst=1,1\n",
    "obs_time=4*3600\n",
    "n_pols,n_products=4,4\n",
    "contsize=contimage_size_low(station_diameter,max_baseline_length,n_pols,n_products,number_beams)\n",
    "n_chan_image=55296/10.\n",
    "cont_cube=image_size_low(station_diameter,max_baseline_length,n_chan_image,n_pols,n_products,number_beams)\n",
    "\n",
    "n_chan_image=8*1728\n",
    "n_pols=1\n",
    "image_cube=image_size_low(station_diameter,max_baseline_length,n_chan_image,n_pols,n_products,number_beams)\n",
    "\n",
    "\n",
    "pi013=contsize+cont_cube+image_cube\n",
    "print('pi013 Imaging=',round(pi013,4),'TB')\n",
    "print('commensal ---KSP-M , KSP-N')\n",
    "print('-----KSP-M---- Cont+Transient---')\n",
    "contsize=contimage_size_low(station_diameter,max_baseline_length,n_pols,n_products,number_beams)\n",
    "tb=transient_buffer(number_stations,number_beams,number_hours,events_per_hour)\n",
    "kspm=tb+contsize\n",
    "print('KSP-M=',round(kspm,4),'TB')\n",
    "print('-----KSP-N---- PSS + Transient---')\n",
    "pss_beams=250\n",
    "assumed_TB=5\n",
    "pss_size=pss(assumed_TB,pss_beams)\n",
    "tb=transient_buffer(number_stations,number_beams,number_hours,events_per_hour)\n",
    "kspn=tb+pss_size\n",
    "print('KSP-N=',round(kspn,4),'TB')\n",
    "print('Total commensal M and N=',round(kspm+kspn,4),'TB')\n"
   ]
  },
  {
   "cell_type": "markdown",
   "id": "ede125f6-85da-4ffa-b74e-71e629f401a8",
   "metadata": {},
   "source": [
    "### LOW-PI-014"
   ]
  },
  {
   "cell_type": "code",
   "execution_count": 73,
   "id": "109123b2-0cdf-4b38-9af2-9d483e07d334",
   "metadata": {},
   "outputs": [
    {
     "name": "stdout",
     "output_type": "stream",
     "text": [
      "Continuum images size 17.4179GB, 0.0170097136TB,1.7e-05PB\n",
      "cube size 513.1367GB, 0.5011100291TB,0.000489PB\n",
      "pi014 Imaging= 0.5181 TB\n",
      "commensal ---KSP-M , KSP-N\n",
      "-----KSP-M---- Cont+Transient---\n",
      "Continuum images size 4.3545GB, 0.0042524284TB,4e-06PB\n",
      "Transient Buffersize 7.0732800000000005 TB\n",
      "KSP-M= 7.0775 TB\n",
      "-----KSP-N---- PSS + Transient---\n",
      "PSS 5\n",
      "Transient Buffersize 7.0732800000000005 TB\n",
      "KSP-N= 12.0733 TB\n",
      "-----KSP-O---- Zoom---\n",
      "cube size 513.1367GB, 0.5011100291TB,0.000489PB\n",
      "cube size 4104.4006GB, 4.0082037098TB,0.003914PB\n",
      "KSP-O 9.0186 TB\n",
      "Total commensal M and N and O= 28.1694 TB\n"
     ]
    }
   ],
   "source": [
    "#Low_full_AAstar Continuum + IVUQ cubes \n",
    "#LOW-PI-014\n",
    "station_diameter,max_baseline_length,number_stations=39,73.4e3,307\n",
    "number_beams,number_beams_pst=1,1\n",
    "obs_time=4*3600\n",
    "n_pols,n_products=4,4\n",
    "contsize=contimage_size_low(station_diameter,max_baseline_length,n_pols,n_products,number_beams)\n",
    "n_chan_image=1728\n",
    "n_pols=1\n",
    "image_cube=image_size_low(station_diameter,max_baseline_length,n_chan_image,n_pols,n_products,number_beams)\n",
    "\n",
    "pi014=contsize+image_cube\n",
    "print('pi014 Imaging=',round(pi014,4),'TB')\n",
    "\n",
    "print('commensal ---KSP-M , KSP-N')\n",
    "print('-----KSP-M---- Cont+Transient---')\n",
    "contsize=contimage_size_low(station_diameter,max_baseline_length,n_pols,n_products,number_beams)\n",
    "tb=transient_buffer(number_stations,number_beams,number_hours,events_per_hour)\n",
    "kspm=tb+contsize\n",
    "print('KSP-M=',round(kspm,4),'TB')\n",
    "print('-----KSP-N---- PSS + Transient---')\n",
    "pss_beams=250\n",
    "assumed_TB=5\n",
    "pss_size=pss(assumed_TB,pss_beams)\n",
    "tb=transient_buffer(number_stations,number_beams,number_hours,events_per_hour)\n",
    "kspn=tb+pss_size\n",
    "print('KSP-N=',round(kspn,4),'TB')\n",
    "print('-----KSP-O---- Zoom---')\n",
    "contsize=image_size_low(station_diameter,max_baseline_length,n_chan_image,n_pols,n_products,number_beams)\n",
    "n_chan_image=8*1728\n",
    "n_pols=1\n",
    "image_cube=image_size_low(station_diameter,max_baseline_length,n_chan_image,n_pols,n_products,number_beams)\n",
    "kspo=(image_cube+contsize)*2 # 2 images per four hours\n",
    "print('KSP-O',round(kspo,4),'TB')\n",
    "\n",
    "print('Total commensal M and N and O=',round(kspm+kspn+kspo,4),'TB')"
   ]
  },
  {
   "cell_type": "markdown",
   "id": "504a9033-0982-4afa-97fb-41f4f7e66f0d",
   "metadata": {},
   "source": [
    "### LOW-PI-015/ LOW-PI-016 / LOW-P1-017"
   ]
  },
  {
   "cell_type": "code",
   "execution_count": 75,
   "id": "0398994a-e549-4e7b-929f-bc9906862a46",
   "metadata": {},
   "outputs": [
    {
     "name": "stdout",
     "output_type": "stream",
     "text": [
      "Continuum images size 17.4179GB, 0.0170097136TB,1.7e-05PB\n",
      "cube size 6566.9816GB, 6.413067948TB,0.006263PB\n",
      "pi015 Imaging= 6.4301 TB\n",
      "commensal ---KSP-M , KSP-N\n",
      "-----KSP-M---- Cont+Transient---\n",
      "Continuum images size 17.4179GB, 0.0170097136TB,1.7e-05PB\n",
      "Transient Buffersize 7.0732800000000005 TB\n",
      "KSP-M= 7.0903 TB\n",
      "-----KSP-N---- PSS + Transient---\n",
      "PSS 5\n",
      "Transient Buffersize 7.0732800000000005 TB\n",
      "KSP-N= 12.0733 TB\n",
      "Total commensal M and N= 19.1636 TB\n"
     ]
    }
   ],
   "source": [
    "#Low_full_AAstar Continuum + IVUQ cubes \n",
    "#LOW-PI-015\n",
    "station_diameter,max_baseline_length,number_stations=39,73.4e3,307\n",
    "number_beams,number_beams_pst=1,1\n",
    "obs_time=4*3600\n",
    "n_pols,n_products=4,4\n",
    "contsize=contimage_size_low(station_diameter,max_baseline_length,n_pols,n_products,number_beams)\n",
    "n_chan_image=55296/10.\n",
    "cont_cube=image_size_low(station_diameter,max_baseline_length,n_chan_image,n_pols,n_products,number_beams)\n",
    "\n",
    "pi015=contsize+cont_cube\n",
    "print('pi015 Imaging=',round(pi015,4),'TB')\n",
    "\n",
    "print('commensal ---KSP-M , KSP-N')\n",
    "print('-----KSP-M---- Cont+Transient---')\n",
    "contsize=contimage_size_low(station_diameter,max_baseline_length,n_pols,n_products,number_beams)\n",
    "tb=transient_buffer(number_stations,number_beams,number_hours,events_per_hour)\n",
    "kspm=tb+contsize\n",
    "print('KSP-M=',round(kspm,4),'TB')\n",
    "print('-----KSP-N---- PSS + Transient---')\n",
    "pss_beams=250\n",
    "assumed_TB=5\n",
    "pss_size=pss(assumed_TB,pss_beams)\n",
    "tb=transient_buffer(number_stations,number_beams,number_hours,events_per_hour)\n",
    "kspn=tb+pss_size\n",
    "print('KSP-N=',round(kspn,4),'TB')\n",
    "print('Total commensal M and N=',round(kspm+kspn,4),'TB')"
   ]
  },
  {
   "cell_type": "markdown",
   "id": "f1a0f29f-fa59-4aa6-afe7-188a73d6e487",
   "metadata": {},
   "source": [
    "### LOW-PI-018"
   ]
  },
  {
   "cell_type": "code",
   "execution_count": 78,
   "id": "10953fde-2362-42e0-9c28-a3ac3c193da1",
   "metadata": {},
   "outputs": [
    {
     "name": "stdout",
     "output_type": "stream",
     "text": [
      "PST= 4.788 TB\n",
      "Flowthrough= 3.456 TB\n",
      "pi018 Non Imaging= 8.244 TB\n",
      "commensal ---KSP-M , KSP-N\n",
      "-----KSP-M---- Cont+Transient---\n",
      "Continuum images size 17.4179GB, 0.0170097136TB,1.7e-05PB\n",
      "Transient Buffersize 7.0732800000000005 TB\n",
      "KSP-M= 7.0903 TB\n",
      "-----KSP-N---- PSS + Transient---\n",
      "PSS 5\n",
      "Transient Buffersize 7.0732800000000005 TB\n",
      "KSP-N= 12.0733 TB\n",
      "Total commensal M and N= 19.1636 TB\n"
     ]
    }
   ],
   "source": [
    "#LOW-PI-018 - \n",
    "#PST /FLOWTHROUGH\n",
    "station_diameter,max_baseline_length,number_stations=39,73.4e3,307\n",
    "number_beams,number_beams_pst=1,1\n",
    "obs_time=4*3600\n",
    "n_pols,n_products=4,4\n",
    "\n",
    "pstsize=pst(number_beams_pst,obs_time)\n",
    "ft=flowthrough_mode(number_beams_pst,obs_time)\n",
    "pi018_ni=pstsize+ft\n",
    "print('pi018 Non Imaging=',round(pi018_ni,4),'TB')\n",
    "print('commensal ---KSP-M , KSP-N')\n",
    "print('-----KSP-M---- Cont+Transient---')\n",
    "contsize=contimage_size_low(station_diameter,max_baseline_length,n_pols,n_products,number_beams)\n",
    "tb=transient_buffer(number_stations,number_beams,number_hours,events_per_hour)\n",
    "kspm=tb+contsize\n",
    "print('KSP-M=',round(kspm,4),'TB')\n",
    "print('-----KSP-N---- PSS + Transient---')\n",
    "pss_beams=250\n",
    "assumed_TB=5\n",
    "pss_size=pss(assumed_TB,pss_beams)\n",
    "tb=transient_buffer(number_stations,number_beams,number_hours,events_per_hour)\n",
    "kspn=tb+pss_size\n",
    "print('KSP-N=',round(kspn,4),'TB')\n",
    "print('Total commensal M and N=',round(kspm+kspn,4),'TB')\n"
   ]
  },
  {
   "cell_type": "markdown",
   "id": "8441c995-b792-4ce7-bdb8-6459b16aadb9",
   "metadata": {},
   "source": [
    "### LOW-PI-019"
   ]
  },
  {
   "cell_type": "code",
   "execution_count": 80,
   "id": "cf108acb-bd6b-44cf-b713-7c7a1d2798b5",
   "metadata": {},
   "outputs": [
    {
     "name": "stdout",
     "output_type": "stream",
     "text": [
      "PST= 38.304 TB\n",
      "Flowthrough= 27.648 TB\n",
      "pi019 Non Imaging= 65.952 TB\n",
      "commensal ---KSP-M , KSP-N\n",
      "-----KSP-M---- Cont+Transient---\n",
      "Continuum images size 17.4179GB, 0.0170097136TB,1.7e-05PB\n",
      "Transient Buffersize 7.0732800000000005 TB\n",
      "KSP-M= 7.0903 TB\n",
      "-----KSP-N---- PSS + Transient---\n",
      "PSS 5\n",
      "Transient Buffersize 7.0732800000000005 TB\n",
      "KSP-N= 12.0733 TB\n",
      "Total commensal M and N= 19.1636 TB\n"
     ]
    }
   ],
   "source": [
    "#LOW-PI-019 - Split 4\n",
    "#PST /FLOWTHROUGH\n",
    "station_diameter,max_baseline_length,number_stations=39,73.4e3,307\n",
    "number_beams,number_beams_pst=1,8\n",
    "obs_time=4*3600\n",
    "n_pols,n_products=4,4\n",
    "\n",
    "pstsize=pst(number_beams_pst,obs_time)\n",
    "ft=flowthrough_mode(number_beams_pst,obs_time)\n",
    "pi019_ni=pstsize+ft\n",
    "print('pi019 Non Imaging=',round(pi019_ni,4),'TB')\n",
    "print('commensal ---KSP-M , KSP-N')\n",
    "print('-----KSP-M---- Cont+Transient---')\n",
    "contsize=contimage_size_low(station_diameter,max_baseline_length,n_pols,n_products,number_beams)\n",
    "tb=transient_buffer(number_stations,number_beams,number_hours,events_per_hour)\n",
    "kspm=tb+contsize\n",
    "print('KSP-M=',round(kspm,4),'TB')\n",
    "print('-----KSP-N---- PSS + Transient---')\n",
    "pss_beams=250\n",
    "assumed_TB=5\n",
    "pss_size=pss(assumed_TB,pss_beams)\n",
    "tb=transient_buffer(number_stations,number_beams,number_hours,events_per_hour)\n",
    "kspn=tb+pss_size\n",
    "print('KSP-N=',round(kspn,4),'TB')\n",
    "print('Total commensal M and N=',round(kspm+kspn,4),'TB')"
   ]
  },
  {
   "cell_type": "markdown",
   "id": "80c7c13f-14d8-4c4b-80b3-8a46a55b6781",
   "metadata": {},
   "source": [
    "### LOW-PI-020"
   ]
  },
  {
   "cell_type": "code",
   "execution_count": 82,
   "id": "f4d8793c-8fe2-4735-bbdb-f3e4fe7e7679",
   "metadata": {},
   "outputs": [
    {
     "name": "stdout",
     "output_type": "stream",
     "text": [
      "PST= 4.788 TB\n",
      "Flowthrough= 3.456 TB\n",
      "pi020 Non Imaging= 3.456 TB\n",
      "commensal ---KSP-M , KSP-N\n",
      "-----KSP-M---- Cont+Transient---\n",
      "Continuum images size 17.4179GB, 0.0170097136TB,1.7e-05PB\n",
      "Transient Buffersize 7.0732800000000005 TB\n",
      "KSP-M= 7.0903 TB\n",
      "-----KSP-N---- PSS + Transient---\n",
      "PSS 5\n",
      "Transient Buffersize 7.0732800000000005 TB\n",
      "KSP-N= 12.0733 TB\n",
      "Total commensal M and N= 19.1636 TB\n"
     ]
    }
   ],
   "source": [
    "#LOW-PI-020 - Split 4\n",
    "#PST /FLOWTHROUGH\n",
    "station_diameter,max_baseline_length,number_stations=39,73.4e3,307\n",
    "number_beams,number_beams_pst=1,1\n",
    "obs_time=4*3600\n",
    "n_pols,n_products=4,4\n",
    "\n",
    "pstsize=pst(number_beams_pst,obs_time)\n",
    "ft=flowthrough_mode(number_beams_pst,obs_time)\n",
    "pi020_ni=ft\n",
    "print('pi020 Non Imaging=',round(pi020_ni,4),'TB')\n",
    "print('commensal ---KSP-M , KSP-N')\n",
    "print('-----KSP-M---- Cont+Transient---')\n",
    "contsize=contimage_size_low(station_diameter,max_baseline_length,n_pols,n_products,number_beams)\n",
    "tb=transient_buffer(number_stations,number_beams,number_hours,events_per_hour)\n",
    "kspm=tb+contsize\n",
    "print('KSP-M=',round(kspm,4),'TB')\n",
    "print('-----KSP-N---- PSS + Transient---')\n",
    "pss_beams=250\n",
    "assumed_TB=5\n",
    "pss_size=pss(assumed_TB,pss_beams)\n",
    "tb=transient_buffer(number_stations,number_beams,number_hours,events_per_hour)\n",
    "kspn=tb+pss_size\n",
    "print('KSP-N=',round(kspn,4),'TB')\n",
    "print('Total commensal M and N=',round(kspm+kspn,4),'TB')"
   ]
  },
  {
   "cell_type": "markdown",
   "id": "c65a9f8e-77fd-4193-bc33-43a7f2972255",
   "metadata": {},
   "source": [
    "### LOW-PI-021"
   ]
  },
  {
   "cell_type": "code",
   "execution_count": 83,
   "id": "5b570106-e986-4036-832c-b0698a351181",
   "metadata": {},
   "outputs": [
    {
     "name": "stdout",
     "output_type": "stream",
     "text": [
      "Dynamic spectrum 11.0592 TB\n",
      "PST= 14.364 TB\n",
      "Flowthrough= 10.368 TB\n",
      "pi021 Non Imaging= 35.7912 TB\n",
      "commensal ---KSP-M , KSP-N\n",
      "-----KSP-M---- Cont+Transient---\n",
      "Continuum images size 17.4179GB, 0.0170097136TB,1.7e-05PB\n",
      "Transient Buffersize 7.0732800000000005 TB\n",
      "KSP-M= 7.0903 TB\n",
      "-----KSP-N---- PSS + Transient---\n",
      "PSS 5\n",
      "Transient Buffersize 7.0732800000000005 TB\n",
      "KSP-N= 12.0733 TB\n",
      "Total commensal M and N= 19.1636 TB\n"
     ]
    }
   ],
   "source": [
    "#LOW-PI-021 \n",
    "#PST /FLOWTHROUGH/DS\n",
    "station_diameter,max_baseline_length,number_stations=39,73.4e3,307\n",
    "number_beams,number_beams_pst=1,3\n",
    "obs_time=4*3600\n",
    "n_pols,n_products=4,4\n",
    "ds=dynamic_spectrum(number_beams_pst,obs_time)\n",
    "pstsize=pst(number_beams_pst,obs_time)\n",
    "ft=flowthrough_mode(number_beams_pst,obs_time)\n",
    "\n",
    "pi021_ni=pstsize+ft+ds\n",
    "print('pi021 Non Imaging=',round(pi021_ni,4),'TB')\n",
    "print('commensal ---KSP-M , KSP-N')\n",
    "print('-----KSP-M---- Cont+Transient---')\n",
    "contsize=contimage_size_low(station_diameter,max_baseline_length,n_pols,n_products,number_beams)\n",
    "tb=transient_buffer(number_stations,number_beams,number_hours,events_per_hour)\n",
    "kspm=tb+contsize\n",
    "print('KSP-M=',round(kspm,4),'TB')\n",
    "print('-----KSP-N---- PSS + Transient---')\n",
    "pss_beams=250\n",
    "assumed_TB=5\n",
    "pss_size=pss(assumed_TB,pss_beams)\n",
    "tb=transient_buffer(number_stations,number_beams,number_hours,events_per_hour)\n",
    "kspn=tb+pss_size\n",
    "print('KSP-N=',round(kspn,4),'TB')\n",
    "print('Total commensal M and N=',round(kspm+kspn,4),'TB')"
   ]
  },
  {
   "cell_type": "markdown",
   "id": "7b597f81-7913-4c76-ad10-2dac321925f4",
   "metadata": {},
   "source": [
    "### LOW-PI-022"
   ]
  },
  {
   "cell_type": "code",
   "execution_count": 85,
   "id": "c8e140f2-a028-4519-bcf8-97ce4ec09c0a",
   "metadata": {},
   "outputs": [
    {
     "name": "stdout",
     "output_type": "stream",
     "text": [
      "PSS 5\n",
      "PST= 4.788 TB\n",
      "pi022 Non Imaging= 9.788 TB\n",
      "commensal ---KSP-M , KSP-N\n",
      "-----KSP-M---- Cont+Transient---\n",
      "Continuum images size 17.4179GB, 0.0170097136TB,1.7e-05PB\n",
      "Transient Buffersize 7.0732800000000005 TB\n",
      "KSP-M= 7.0903 TB\n",
      "-----KSP-P----Dynamic ---\n",
      "Continuum images size 17.4179GB, 0.0170097136TB,1.7e-05PB\n",
      "Dynamic spectrum 3.6864000000000003 TB\n",
      "KSP-P 3.7204 TB\n",
      "Total commensal M and N= 10.8107 TB\n"
     ]
    }
   ],
   "source": [
    "#LOW-PI-022 \n",
    "#PST /PSS\n",
    "station_diameter,max_baseline_length,number_stations=39,73.4e3,307\n",
    "number_beams,number_beams_pst=1,1\n",
    "obs_time=4*3600\n",
    "n_pols,n_products=4,4\n",
    "pss_beams=250\n",
    "assumed_TB=5\n",
    "pss_size=pss(assumed_TB,pss_beams)\n",
    "pstsize=pst(number_beams_pst,obs_time)\n",
    "\n",
    "pi022_ni=pstsize+pss_size\n",
    "print('pi022 Non Imaging=',round(pi022_ni,4),'TB')\n",
    "print('commensal ---KSP-M , KSP-N')\n",
    "print('-----KSP-M---- Cont+Transient---')\n",
    "contsize=contimage_size_low(station_diameter,max_baseline_length,n_pols,n_products,number_beams)\n",
    "tb=transient_buffer(number_stations,number_beams,number_hours,events_per_hour)\n",
    "kspm=tb+contsize\n",
    "print('KSP-M=',round(kspm,4),'TB')\n",
    "print('-----KSP-P----Dynamic ---')\n",
    "contsize=contimage_size_low(station_diameter,max_baseline_length,n_pols,n_products,number_beams)\n",
    "ds=dynamic_spectrum(number_beams_pst,obs_time)\n",
    "kspp=ds+2*contsize\n",
    "print('KSP-P',round(kspp,4),'TB')\n",
    "\n",
    "print('Total commensal M and N=',round(kspm+kspp,4),'TB')"
   ]
  },
  {
   "cell_type": "markdown",
   "id": "3df1f915-6268-4557-a316-4a6aced66ae2",
   "metadata": {},
   "source": [
    "### LOW-PI-023 / LOW-PI-024"
   ]
  },
  {
   "cell_type": "code",
   "execution_count": 88,
   "id": "d38cb68c-5c36-4b4a-b885-e17e88096f4b",
   "metadata": {},
   "outputs": [
    {
     "name": "stdout",
     "output_type": "stream",
     "text": [
      "Continuum images size 17.4179GB, 0.0170097136TB,1.7e-05PB\n",
      "cube size 2565.2875GB, 2.5051635609TB,0.002446PB\n",
      "pi023 Imaging= 2.5222 TB\n",
      "commensal ---KSP-M , KSP-O\n",
      "-----KSP-M---- Cont+Transient---\n",
      "Continuum images size 4.3545GB, 0.0042524284TB,4e-06PB\n",
      "Transient Buffersize 7.0732800000000005 TB\n",
      "KSP-M= 7.0775 TB\n",
      "-----KSP-O---- Zoom---\n",
      "cube size 2565.2875GB, 2.5051635609TB,0.002446PB\n",
      "cube size 4104.4006GB, 4.0082037098TB,0.003914PB\n",
      "KSP-O 19.5401 TB\n",
      "Total commensal M and O= 26.6176 TB\n"
     ]
    }
   ],
   "source": [
    "#Low_full_AAstar Continuum + IVUQ cubes \n",
    "#LOW-PI-023\n",
    "station_diameter,max_baseline_length,number_stations=39,73.4e3,307\n",
    "number_beams,number_beams_pst=1,1\n",
    "obs_time=4*3600\n",
    "n_pols,n_products=4,4\n",
    "contsize=contimage_size_low(station_diameter,max_baseline_length,n_pols,n_products,number_beams)\n",
    "n_chan_image=5*1728\n",
    "n_pols=1\n",
    "image_cube=image_size_low(station_diameter,max_baseline_length,n_chan_image,n_pols,n_products,number_beams)\n",
    "pi023=contsize+image_cube\n",
    "print('pi023 Imaging=',round(pi023,4),'TB')\n",
    "\n",
    "print('commensal ---KSP-M , KSP-O')\n",
    "print('-----KSP-M---- Cont+Transient---')\n",
    "contsize=contimage_size_low(station_diameter,max_baseline_length,n_pols,n_products,number_beams)\n",
    "tb=transient_buffer(number_stations,number_beams,number_hours,events_per_hour)\n",
    "kspm=tb+contsize\n",
    "print('KSP-M=',round(kspm,4),'TB')\n",
    "print('-----KSP-O---- Zoom---')\n",
    "contsize=image_size_low(station_diameter,max_baseline_length,n_chan_image,n_pols,n_products,number_beams)\n",
    "n_chan_image=8*1728\n",
    "n_pols=1\n",
    "image_cube=image_size_low(station_diameter,max_baseline_length,n_chan_image,n_pols,n_products,number_beams)\n",
    "kspo=(image_cube+contsize)*3 # 4 images per four hours\n",
    "print('KSP-O',round(kspo,4),'TB')\n",
    "print('Total commensal M and O=',round(kspm+kspo,4),'TB')"
   ]
  },
  {
   "cell_type": "markdown",
   "id": "ccc23333-15b0-431e-8a87-11cdcdee3cda",
   "metadata": {},
   "source": [
    "### LOW-PI-025 / LOW-PI-026"
   ]
  },
  {
   "cell_type": "code",
   "execution_count": 90,
   "id": "96b5704e-3bdb-495c-a17c-06f48d397df0",
   "metadata": {},
   "outputs": [
    {
     "name": "stdout",
     "output_type": "stream",
     "text": [
      "Continuum images size 17.4179GB, 0.0170097136TB,1.7e-05PB\n",
      "cube size 65668.9251GB, 64.1298096651TB,0.062627PB\n",
      "pi025 Imaging= 64.1468 TB\n",
      "commensal ---KSP-M , KSP-N\n",
      "-----KSP-M---- Cont+Transient---\n",
      "Continuum images size 17.4179GB, 0.0170097136TB,1.7e-05PB\n",
      "Transient Buffersize 7.0732800000000005 TB\n",
      "KSP-M= 7.0903 TB\n",
      "-----KSP-N---- PSS + Transient---\n",
      "PSS 5\n",
      "Transient Buffersize 7.0732800000000005 TB\n",
      "KSP-N= 12.0733 TB\n",
      "Total commensal M and N= 19.1636 TB\n"
     ]
    }
   ],
   "source": [
    "#LOW-PI-025/026 \n",
    "#CONT +IQUV\n",
    "station_diameter,max_baseline_length,number_stations=39,73.4e3,307\n",
    "number_beams,number_beams_pst=1,1\n",
    "obs_time=4*3600\n",
    "n_pols,n_products=4,4\n",
    "contsize=contimage_size_low(station_diameter,max_baseline_length,n_pols,n_products,number_beams)\n",
    "n_chan_image=55296.\n",
    "cont_cube=image_size_low(station_diameter,max_baseline_length,n_chan_image,n_pols,n_products,number_beams)\n",
    "\n",
    "pi025=contsize+cont_cube\n",
    "print('pi025 Imaging=',round(pi025,4),'TB')\n",
    "print('commensal ---KSP-M , KSP-N')\n",
    "print('-----KSP-M---- Cont+Transient---')\n",
    "contsize=contimage_size_low(station_diameter,max_baseline_length,n_pols,n_products,number_beams)\n",
    "tb=transient_buffer(number_stations,number_beams,number_hours,events_per_hour)\n",
    "kspm=tb+contsize\n",
    "print('KSP-M=',round(kspm,4),'TB')\n",
    "print('-----KSP-N---- PSS + Transient---')\n",
    "pss_beams=250\n",
    "assumed_TB=5\n",
    "pss_size=pss(assumed_TB,pss_beams)\n",
    "tb=transient_buffer(number_stations,number_beams,number_hours,events_per_hour)\n",
    "kspn=tb+pss_size\n",
    "print('KSP-N=',round(kspn,4),'TB')\n",
    "print('Total commensal M and N=',round(kspm+kspn,4),'TB')"
   ]
  },
  {
   "cell_type": "markdown",
   "id": "31390eba-4c92-4e10-92ac-22b04255fa1e",
   "metadata": {},
   "source": [
    "### LOW-PI-028 "
   ]
  },
  {
   "cell_type": "code",
   "execution_count": null,
   "id": "8c33bd8d-ea2d-4622-94dd-afb876094d75",
   "metadata": {},
   "outputs": [],
   "source": []
  },
  {
   "cell_type": "markdown",
   "id": "ee030ff5-e73a-4f0f-851a-5c967510572b",
   "metadata": {},
   "source": [
    "### LOW-PI-029 "
   ]
  },
  {
   "cell_type": "code",
   "execution_count": 93,
   "id": "cf70e92e-0314-4659-bec9-a7e0e8ae0ee5",
   "metadata": {},
   "outputs": [
    {
     "name": "stdout",
     "output_type": "stream",
     "text": [
      "Continuum images size 17.4179GB, 0.0170097136TB,1.7e-05PB\n",
      "cube size 20521.6071GB, 20.0406319645TB,0.019571PB\n",
      "pi029 Imaging= 20.0576 TB\n",
      "commensal ---KSP-M , KSP-O\n",
      "-----KSP-M---- Cont+Transient---\n",
      "Continuum images size 4.3545GB, 0.0042524284TB,4e-06PB\n",
      "Transient Buffersize 7.0732800000000005 TB\n",
      "KSP-M= 7.0775 TB\n",
      "-----KSP-O---- Zoom---\n",
      "cube size 20521.6071GB, 20.0406319645TB,0.019571PB\n",
      "cube size 4104.4006GB, 4.0082037098TB,0.003914PB\n",
      "KSP-O 24.0488 TB\n",
      "Total commensal M and O= 31.1264 TB\n"
     ]
    }
   ],
   "source": [
    "#Low_full_AAstar Continuum +ZOOM \n",
    "#LOW-PI-029\n",
    "station_diameter,max_baseline_length,number_stations=39,73.4e3,307\n",
    "number_beams,number_beams_pst=1,1\n",
    "obs_time=4*3600\n",
    "n_pols,n_products=4,4\n",
    "contsize=contimage_size_low(station_diameter,max_baseline_length,n_pols,n_products,number_beams)\n",
    "n_chan_image=40*1728\n",
    "n_pols=1\n",
    "image_cube=image_size_low(station_diameter,max_baseline_length,n_chan_image,n_pols,n_products,number_beams)\n",
    "pi029=contsize+image_cube\n",
    "print('pi029 Imaging=',round(pi029,4),'TB')\n",
    "\n",
    "print('commensal ---KSP-M , KSP-O')\n",
    "print('-----KSP-M---- Cont+Transient---')\n",
    "contsize=contimage_size_low(station_diameter,max_baseline_length,n_pols,n_products,number_beams)\n",
    "tb=transient_buffer(number_stations,number_beams,number_hours,events_per_hour)\n",
    "kspm=tb+contsize\n",
    "print('KSP-M=',round(kspm,4),'TB')\n",
    "print('-----KSP-O---- Zoom---')\n",
    "contsize=image_size_low(station_diameter,max_baseline_length,n_chan_image,n_pols,n_products,number_beams)\n",
    "n_chan_image=8*1728\n",
    "n_pols=1\n",
    "image_cube=image_size_low(station_diameter,max_baseline_length,n_chan_image,n_pols,n_products,number_beams)\n",
    "kspo=(image_cube+contsize)*1 # 4 images per four hours\n",
    "print('KSP-O',round(kspo,4),'TB')\n",
    "print('Total commensal M and O=',round(kspm+kspo,4),'TB')"
   ]
  },
  {
   "cell_type": "markdown",
   "id": "8c9acdc0-dfa9-4d0e-912d-8cde44a65101",
   "metadata": {},
   "source": [
    "### LOW-PI-030 "
   ]
  },
  {
   "cell_type": "code",
   "execution_count": 98,
   "id": "77954492-92bd-4bfe-a550-c95f0dd50e71",
   "metadata": {},
   "outputs": [
    {
     "name": "stdout",
     "output_type": "stream",
     "text": [
      "Continuum images size 17.4179GB, 0.0170097136TB,1.7e-05PB\n",
      "pi030 Imaging= 4.0823 TB\n",
      "PST= 4.788 TB\n",
      "Flowthrough= 3.456 TB\n",
      "pi030 Non Imaging= 8.244 TB\n",
      "commensal ---KSP-M , KSP-N\n",
      "-----KSP-M---- Cont+Transient---\n",
      "Continuum images size 17.4179GB, 0.0170097136TB,1.7e-05PB\n",
      "Transient Buffersize 7.0732800000000005 TB\n",
      "KSP-M= 7.0903 TB\n",
      "-----KSP-N---- PSS + Transient---\n",
      "PSS 5\n",
      "Transient Buffersize 7.0732800000000005 TB\n",
      "KSP-N= 12.0733 TB\n",
      "Total commensal M and N= 19.1636 TB\n"
     ]
    }
   ],
   "source": [
    "#LOW-PI-030 \n",
    "#CONT +IQUV\n",
    "station_diameter,max_baseline_length,number_stations=39,73.4e3,307\n",
    "number_beams,number_beams_pst=1,1\n",
    "obs_time=4*3600\n",
    "n_pols,n_products=4,4\n",
    "contsize=contimage_size_low(station_diameter,max_baseline_length,n_pols,n_products,number_beams)\n",
    "\n",
    "pi030=contsize*60*4\n",
    "print('pi030 Imaging=',round(pi030,4),'TB')\n",
    "pstsize=pst(number_beams_pst,obs_time)\n",
    "ft=flowthrough_mode(number_beams_pst,obs_time)\n",
    "\n",
    "pi030_ni=pstsize+ft\n",
    "print('pi030 Non Imaging=',round(pi030_ni,4),'TB')\n",
    "print('commensal ---KSP-M , KSP-N')\n",
    "print('-----KSP-M---- Cont+Transient---')\n",
    "contsize=contimage_size_low(station_diameter,max_baseline_length,n_pols,n_products,number_beams)\n",
    "tb=transient_buffer(number_stations,number_beams,number_hours,events_per_hour)\n",
    "kspm=tb+contsize\n",
    "print('KSP-M=',round(kspm,4),'TB')\n",
    "print('-----KSP-N---- PSS + Transient---')\n",
    "pss_beams=250\n",
    "assumed_TB=5\n",
    "pss_size=pss(assumed_TB,pss_beams)\n",
    "tb=transient_buffer(number_stations,number_beams,number_hours,events_per_hour)\n",
    "kspn=tb+pss_size\n",
    "print('KSP-N=',round(kspn,4),'TB')\n",
    "print('Total commensal M and N=',round(kspm+kspn,4),'TB')"
   ]
  },
  {
   "cell_type": "markdown",
   "id": "08411de2-cce7-499f-8035-a8671caae000",
   "metadata": {},
   "source": [
    "### LOW-PI-031 "
   ]
  },
  {
   "cell_type": "code",
   "execution_count": 101,
   "id": "ed0ef8f1-1081-4760-bf52-40c7161f4d47",
   "metadata": {},
   "outputs": [
    {
     "name": "stdout",
     "output_type": "stream",
     "text": [
      "Continuum images size 1311.3022GB, 1.2805685401TB,0.001251PB\n",
      "cube size 494388.4909GB, 482.8012606595TB,0.471486PB\n",
      "pi031 Imaging= 484.0818 TB\n",
      "PSS 5\n",
      "PST= 38.304 TB\n",
      "Flowthrough= 27.648 TB\n",
      "Dynamic spectrum 29.491200000000003 TB\n",
      "Transient Buffersize 339.51744 TB\n",
      "pi031 Non Imaging= 439.9606 TB\n",
      "commensal ---KSP-M , KSP-N\n",
      "-----KSP-M---- Cont+Transient---\n",
      "Continuum images size 1311.3022GB, 1.2805685401TB,0.001251PB\n",
      "Transient Buffersize 339.51744 TB\n",
      "KSP-M= 340.798 TB\n"
     ]
    }
   ],
   "source": [
    "#LOW-PI-31 - Low_split16_i_AAstar\n",
    "station_diameter,max_baseline_length,number_stations=39,65e3,307\n",
    "number_beams,number_beams_pst=48,8\n",
    "obs_time=4*3600\n",
    "n_pols,n_products=8,4\n",
    "contsize=contimage_size_low(station_diameter,max_baseline_length,n_pols,n_products,number_beams)\n",
    "n_chan_image=55296/10.\n",
    "cont_cube=image_size_low(station_diameter,max_baseline_length,n_chan_image,n_pols,n_products,number_beams)\n",
    "\n",
    "pi031=contsize+cont_cube\n",
    "print('pi031 Imaging=',round(pi031,4),'TB')\n",
    "\n",
    "pss_beams=250\n",
    "assumed_TB=5\n",
    "pss_size=pss(assumed_TB,pss_beams)\n",
    "pstsize=pst(number_beams_pst,obs_time)\n",
    "ft=flowthrough_mode(number_beams_pst,obs_time)\n",
    "ds=dynamic_spectrum(number_beams_pst,obs_time)\n",
    "tb=transient_buffer(number_stations,number_beams,number_hours,events_per_hour)\n",
    "\n",
    "pi031_ni=pstsize+ft+pss_size+ds+tb\n",
    "print('pi031 Non Imaging=',round(pi031_ni,4),'TB')\n",
    "print('commensal ---KSP-M , KSP-N')\n",
    "print('-----KSP-M---- Cont+Transient---')\n",
    "contsize=contimage_size_low(station_diameter,max_baseline_length,n_pols,n_products,number_beams)\n",
    "tb=transient_buffer(number_stations,number_beams,number_hours,events_per_hour)\n",
    "kspm=tb+contsize\n",
    "print('KSP-M=',round(kspm,4),'TB')"
   ]
  },
  {
   "cell_type": "markdown",
   "id": "9e743613-77b0-4eea-9f97-c2d1a83bb423",
   "metadata": {},
   "source": [
    "### LOW-PI-032 "
   ]
  },
  {
   "cell_type": "code",
   "execution_count": 103,
   "id": "2d98b873-c44c-4cc1-9f0b-c0932dec9ed3",
   "metadata": {},
   "outputs": [
    {
     "name": "stdout",
     "output_type": "stream",
     "text": [
      "Continuum images size 17.4179GB, 0.0170097136TB,1.7e-05PB\n",
      "cube size 6566.9816GB, 6.413067948TB,0.006263PB\n",
      "cube size 4104.4006GB, 4.0082037098TB,0.003914PB\n",
      "pi032 Imaging= 10.4383 TB\n",
      "-----KSP-O---- Zoom---\n",
      "cube size 4104.4006GB, 4.0082037098TB,0.003914PB\n",
      "cube size 4104.4006GB, 4.0082037098TB,0.003914PB\n",
      "KSP-O 8.0164 TB\n",
      "Total commensal O= 8.0164 TB\n"
     ]
    }
   ],
   "source": [
    "#Low_full_AAstar Continuum + IVUQ cubes +zoom\n",
    "#LOW-PI-032\n",
    "station_diameter,max_baseline_length,number_stations=39,73.4e3,307\n",
    "number_beams,number_beams_pst=1,1\n",
    "obs_time=4*3600\n",
    "n_pols,n_products=4,4\n",
    "contsize=contimage_size_low(station_diameter,max_baseline_length,n_pols,n_products,number_beams)\n",
    "n_chan_image=55296/10.\n",
    "cont_cube=image_size_low(station_diameter,max_baseline_length,n_chan_image,n_pols,n_products,number_beams)\n",
    "\n",
    "n_chan_image=8*1728\n",
    "n_pols=1\n",
    "image_cube=image_size_low(station_diameter,max_baseline_length,n_chan_image,n_pols,n_products,number_beams)\n",
    "pi032=contsize+cont_cube+image_cube\n",
    "print('pi032 Imaging=',round(pi032,4),'TB')\n",
    "print('-----KSP-O---- Zoom---')\n",
    "contsize=image_size_low(station_diameter,max_baseline_length,n_chan_image,n_pols,n_products,number_beams)\n",
    "n_chan_image=8*1728\n",
    "n_pols=1\n",
    "image_cube=image_size_low(station_diameter,max_baseline_length,n_chan_image,n_pols,n_products,number_beams)\n",
    "kspo=(image_cube+contsize)*1 # 1 images per four hours\n",
    "print('KSP-O',round(kspo,4),'TB')\n",
    "print('Total commensal O=',round(kspo,4),'TB')\n"
   ]
  },
  {
   "cell_type": "markdown",
   "id": "04e54e08-c770-4a1f-8e7e-6ba0b5590e99",
   "metadata": {},
   "source": [
    "### LOW-PI-033 "
   ]
  },
  {
   "cell_type": "code",
   "execution_count": 105,
   "id": "c4b27d2c-5d81-43fc-94e3-a2c93b852ef4",
   "metadata": {},
   "outputs": [
    {
     "name": "stdout",
     "output_type": "stream",
     "text": [
      "Continuum images size 17.4179GB, 0.0170097136TB,1.7e-05PB\n",
      "cube size 6566.9816GB, 6.413067948TB,0.006263PB\n",
      "pi033 Imaging= 6.4301 TB\n",
      "-----KSP-M---- Cont+Transient---\n",
      "Continuum images size 17.4179GB, 0.0170097136TB,1.7e-05PB\n",
      "Transient Buffersize 7.0732800000000005 TB\n",
      "KSP-M= 7.0903 TB\n",
      "-----KSP-N---- PSS + Transient---\n",
      "PSS 5\n",
      "Transient Buffersize 7.0732800000000005 TB\n",
      "KSP-N= 12.0733 TB\n",
      "-----KSP-Q---- Cont+Dynamic---\n",
      "Continuum images size 17.4179GB, 0.0170097136TB,1.7e-05PB\n",
      "Dynamic spectrum 3.6864000000000003 TB\n",
      "KSP-Q 3.7204 TB\n",
      "Total commensal M and N= 22.884 TB\n"
     ]
    }
   ],
   "source": [
    "#Low_full_AAstar Continuum + IVUQ cubes \n",
    "#LOW-PI-033\n",
    "station_diameter,max_baseline_length,number_stations=39,73.4e3,307\n",
    "number_beams,number_beams_pst=1,1\n",
    "obs_time=4*3600\n",
    "n_pols,n_products=4,4\n",
    "contsize=contimage_size_low(station_diameter,max_baseline_length,n_pols,n_products,number_beams)\n",
    "n_chan_image=55296/10.\n",
    "cont_cube=image_size_low(station_diameter,max_baseline_length,n_chan_image,n_pols,n_products,number_beams)\n",
    "\n",
    "pi033=contsize+cont_cube\n",
    "print('pi033 Imaging=',round(pi033,4),'TB')\n",
    "print('-----KSP-M---- Cont+Transient---')\n",
    "contsize=contimage_size_low(station_diameter,max_baseline_length,n_pols,n_products,number_beams)\n",
    "tb=transient_buffer(number_stations,number_beams,number_hours,events_per_hour)\n",
    "kspm=tb+contsize\n",
    "print('KSP-M=',round(kspm,4),'TB')\n",
    "print('-----KSP-N---- PSS + Transient---')\n",
    "pss_beams=250\n",
    "assumed_TB=5\n",
    "pss_size=pss(assumed_TB,pss_beams)\n",
    "tb=transient_buffer(number_stations,number_beams,number_hours,events_per_hour)\n",
    "kspn=tb+pss_size\n",
    "print('KSP-N=',round(kspn,4),'TB')\n",
    "print('-----KSP-Q---- Cont+Dynamic---')\n",
    "contsize=contimage_size_low(station_diameter,max_baseline_length,n_pols,n_products,number_beams)\n",
    "ds=dynamic_spectrum(number_beams_pst,obs_time)\n",
    "kspq=ds+2*contsize\n",
    "\n",
    "print('KSP-Q',round(kspq,4),'TB')\n",
    "\n",
    "print('Total commensal M and N=',round(kspm+kspn+kspq,4),'TB')\n"
   ]
  },
  {
   "cell_type": "markdown",
   "id": "3d77491d-f890-4e5f-9ebe-716964f9e73f",
   "metadata": {},
   "source": [
    "### LOW-PI-034 "
   ]
  },
  {
   "cell_type": "code",
   "execution_count": 106,
   "id": "d6d8f85b-e6ea-4cfd-b543-1248fd4c7ac2",
   "metadata": {},
   "outputs": [
    {
     "name": "stdout",
     "output_type": "stream",
     "text": [
      "Continuum images size 17.4179GB, 0.0170097136TB,1.7e-05PB\n",
      "cube size 6566.9816GB, 6.413067948TB,0.006263PB\n",
      "pi034 Imaging= 6.4301 TB\n",
      "-----KSP-M---- Cont+Transient---\n",
      "Continuum images size 17.4179GB, 0.0170097136TB,1.7e-05PB\n",
      "Transient Buffersize 7.0732800000000005 TB\n",
      "KSP-M= 7.0903 TB\n",
      "-----KSP-N---- PSS + Transient---\n",
      "PSS 5\n",
      "Transient Buffersize 7.0732800000000005 TB\n",
      "KSP-N= 12.0733 TB\n",
      "Total commensal M and N= 19.1636 TB\n"
     ]
    }
   ],
   "source": [
    "#Low_full_AAstar Continuum + IVUQ cubes \n",
    "#LOW-PI-034\n",
    "station_diameter,max_baseline_length,number_stations=39,73.4e3,307\n",
    "number_beams,number_beams_pst=1,1\n",
    "obs_time=4*3600\n",
    "n_pols,n_products=4,4\n",
    "contsize=contimage_size_low(station_diameter,max_baseline_length,n_pols,n_products,number_beams)\n",
    "n_chan_image=55296/10.\n",
    "cont_cube=image_size_low(station_diameter,max_baseline_length,n_chan_image,n_pols,n_products,number_beams)\n",
    "\n",
    "pi034=contsize+cont_cube\n",
    "print('pi034 Imaging=',round(pi034,4),'TB')\n",
    "print('-----KSP-M---- Cont+Transient---')\n",
    "contsize=contimage_size_low(station_diameter,max_baseline_length,n_pols,n_products,number_beams)\n",
    "tb=transient_buffer(number_stations,number_beams,number_hours,events_per_hour)\n",
    "kspm=tb+contsize\n",
    "print('KSP-M=',round(kspm,4),'TB')\n",
    "print('-----KSP-N---- PSS + Transient---')\n",
    "pss_beams=250\n",
    "assumed_TB=5\n",
    "pss_size=pss(assumed_TB,pss_beams)\n",
    "tb=transient_buffer(number_stations,number_beams,number_hours,events_per_hour)\n",
    "kspn=tb+pss_size\n",
    "print('KSP-N=',round(kspn,4),'TB')\n",
    "\n",
    "print('Total commensal M and N=',round(kspm+kspn,4),'TB')\n"
   ]
  },
  {
   "cell_type": "markdown",
   "id": "2d3bfff4-64d7-40af-aca4-f6f25447ba6b",
   "metadata": {},
   "source": [
    "### LOW-PI-035 "
   ]
  },
  {
   "cell_type": "code",
   "execution_count": 107,
   "id": "bfd763ad-30b6-4511-9f2b-1b62df1efaae",
   "metadata": {},
   "outputs": [
    {
     "name": "stdout",
     "output_type": "stream",
     "text": [
      "Continuum images size 17.4179GB, 0.0170097136TB,1.7e-05PB\n",
      "cube size 6566.9816GB, 6.413067948TB,0.006263PB\n",
      "cube size 4104.4006GB, 4.0082037098TB,0.003914PB\n",
      "pi035 Imaging= 10.4383 TB\n",
      "-----KSP-M---- Cont+Transient---\n",
      "Continuum images size 4.3545GB, 0.0042524284TB,4e-06PB\n",
      "Transient Buffersize 7.0732800000000005 TB\n",
      "KSP-M= 7.0775 TB\n",
      "-----KSP-N---- PSS + Transient---\n",
      "PSS 5\n",
      "Transient Buffersize 7.0732800000000005 TB\n",
      "KSP-N= 12.0733 TB\n",
      "-----KSP-O---- Zoom---\n",
      "cube size 4104.4006GB, 4.0082037098TB,0.003914PB\n",
      "cube size 4104.4006GB, 4.0082037098TB,0.003914PB\n",
      "KSP-O 32.0656 TB\n",
      "Total commensal M and N= 51.2164 TB\n"
     ]
    }
   ],
   "source": [
    "#Low_full_AAstar Continuum + IVUQ cubes \n",
    "#LOW-PI-035\n",
    "station_diameter,max_baseline_length,number_stations=39,73.4e3,307\n",
    "number_beams,number_beams_pst=1,1\n",
    "obs_time=4*3600\n",
    "n_pols,n_products=4,4\n",
    "contsize=contimage_size_low(station_diameter,max_baseline_length,n_pols,n_products,number_beams)\n",
    "n_chan_image=55296/10.\n",
    "cont_cube=image_size_low(station_diameter,max_baseline_length,n_chan_image,n_pols,n_products,number_beams)\n",
    "n_chan_image=8*1728\n",
    "n_pols=1\n",
    "image_cube=image_size_low(station_diameter,max_baseline_length,n_chan_image,n_pols,n_products,number_beams)\n",
    "pi035=contsize+cont_cube+image_cube\n",
    "print('pi035 Imaging=',round(pi035,4),'TB')\n",
    "print('-----KSP-M---- Cont+Transient---')\n",
    "contsize=contimage_size_low(station_diameter,max_baseline_length,n_pols,n_products,number_beams)\n",
    "tb=transient_buffer(number_stations,number_beams,number_hours,events_per_hour)\n",
    "kspm=tb+contsize\n",
    "print('KSP-M=',round(kspm,4),'TB')\n",
    "print('-----KSP-N---- PSS + Transient---')\n",
    "pss_beams=250\n",
    "assumed_TB=5\n",
    "pss_size=pss(assumed_TB,pss_beams)\n",
    "tb=transient_buffer(number_stations,number_beams,number_hours,events_per_hour)\n",
    "kspn=tb+pss_size\n",
    "print('KSP-N=',round(kspn,4),'TB')\n",
    "print('-----KSP-O---- Zoom---')\n",
    "contsize=image_size_low(station_diameter,max_baseline_length,n_chan_image,n_pols,n_products,number_beams)\n",
    "n_chan_image=8*1728\n",
    "n_pols=1\n",
    "image_cube=image_size_low(station_diameter,max_baseline_length,n_chan_image,n_pols,n_products,number_beams)\n",
    "kspo=(image_cube+contsize)*4 # 1 images per four hours\n",
    "print('KSP-O',round(kspo,4),'TB')\n",
    "\n",
    "\n",
    "print('Total commensal M and N=',round(kspm+kspn+kspo,4),'TB')\n"
   ]
  },
  {
   "cell_type": "code",
   "execution_count": 57,
   "id": "d2dd16e9-7aef-4342-9e99-19c63d7d1574",
   "metadata": {},
   "outputs": [
    {
     "name": "stdout",
     "output_type": "stream",
     "text": [
      "cube size 1.2866GB, 0.0012563993TB,1e-06PB\n",
      "cube size 513.1367GB, 0.5011100291TB,0.000489PB\n",
      "0.5024 TB\n"
     ]
    }
   ],
   "source": [
    "#LOW-PI-35 - HI absorption Low_full_aastar\n",
    "#Continuum + zoom \n",
    "station_diameter=39\n",
    "max_baseline_length=73.4e3\n",
    "n_pols=4\n",
    "n_products=4\n",
    "n_chan_image=1\n",
    "number_subarray=1\n",
    "number_beams=1\n",
    "contsize=image_size_low(station_diameter,max_baseline_length,n_chan_image,n_pols,n_products,number_beams)\n",
    "\n",
    "n_chan_image=1728\n",
    "n_pols=1\n",
    "#frequency_sampling=10\n",
    "#n_chan_image=n_chan_image/10.\n",
    "image_cube=image_size_low(station_diameter,max_baseline_length,n_chan_image,n_pols,n_products,number_beams)\n",
    "\n",
    "total=image_cube+contsize\n",
    "print(round(total,4),'TB')"
   ]
  },
  {
   "cell_type": "code",
   "execution_count": null,
   "id": "29156031-0258-45fd-931b-46ce732e2901",
   "metadata": {},
   "outputs": [],
   "source": []
  }
 ],
 "metadata": {
  "kernelspec": {
   "display_name": "Python 3 (ipykernel)",
   "language": "python",
   "name": "python3"
  },
  "language_info": {
   "codemirror_mode": {
    "name": "ipython",
    "version": 3
   },
   "file_extension": ".py",
   "mimetype": "text/x-python",
   "name": "python",
   "nbconvert_exporter": "python",
   "pygments_lexer": "ipython3",
   "version": "3.8.10"
  }
 },
 "nbformat": 4,
 "nbformat_minor": 5
}

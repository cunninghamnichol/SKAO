{
 "cells": [
  {
   "cell_type": "markdown",
   "id": "b48e799f-4aa2-45f7-8955-aa2232a8f01a",
   "metadata": {},
   "source": [
    "# Assumptions for the data rate estimates per observing modes"
   ]
  },
  {
   "cell_type": "markdown",
   "id": "280ae50e-67b6-4348-8ca7-09e9d4abbd27",
   "metadata": {},
   "source": [
    "## Imaging"
   ]
  },
  {
   "cell_type": "code",
   "execution_count": 1,
   "id": "2706eaec-836c-4e92-b9c1-d2eede6acf7b",
   "metadata": {},
   "outputs": [
    {
     "name": "stdout",
     "output_type": "stream",
     "text": [
      "96646942.80078895\n",
      "Image size in MBs = 386587.7712\n",
      "Image size in GBs = 386.58777\n",
      "Image size in TBs = 0.38659\n",
      "Image size in PBs = 0.00039\n"
     ]
    }
   ],
   "source": [
    "#Image size assuming observing parameters, e.g. baseline lengths, sampling, frequency\n",
    "station_diameter=39\n",
    "max_baseline_length=70e3\n",
    "n_pols=4\n",
    "n_chan=1000\n",
    "#The 7.5 factor comes from assuming 2xFOV, 3 times sampling of the PSF, and the 1.25 factor in lambda/D\n",
    "image_size=7.5*(max_baseline_length/station_diameter)**2 * (32/8)\n",
    "print(image_size)\n",
    "final_cube= n_pols * n_chan * image_size\n",
    "print(f'Image size in MBs = {round(final_cube/1e6,5)}')\n",
    "print(f'Image size in GBs = {round(final_cube/1e9,5)}')\n",
    "print(f'Image size in TBs = {round(final_cube/1e12,5)}')\n",
    "print(f'Image size in PBs = {round(final_cube/1e15,5)}')"
   ]
  },
  {
   "cell_type": "code",
   "execution_count": null,
   "id": "839cc613-ac96-488d-98e3-f0229cc99f77",
   "metadata": {},
   "outputs": [],
   "source": [
    "#Assuming \n",
    "gbps_to_PB=(1/(8000*1e3))\n",
    "gbps_to_TB=(1/(8000))\n",
    "def image_size_low(station_diameter,max_baseline_length,n_chan_image,n_pols,n_products,number_beams):\n",
    "    image_size=7.5*(max_baseline_length/station_diameter)**2 * (32/8)\n",
    "    #Assuming 4 imaging products, image, model, residual, psf (1 channel only)\n",
    "    final_cube= number_beams * n_pols * n_chan_image * image_size *(n_products-1) + (number_beams*image_size) #last part is the PSF which will be 1 channel\n",
    "    sGB=(1024*1024*1024)\n",
    "    sTB=(1024*1024*1024*1024)\n",
    "    sPB=(1024*1024*1024*1024*1024)\n",
    "    print(f'cube size {round(final_cube/sGB,4)}GB, {round(final_cube/sTB,10)}TB,{round(final_cube/sPB,6)}PB')\n",
    "    totalTB=final_cube/sTB\n",
    "    return totalTB"
   ]
  },
  {
   "cell_type": "markdown",
   "id": "4fc44590-aa9e-43e6-82ca-a900d307ee72",
   "metadata": {},
   "source": [
    "# Visibility Data\n",
    "### Definition from LOW which is based on the ms format from Lofar (from Sarrvesh)"
   ]
  },
  {
   "cell_type": "code",
   "execution_count": null,
   "id": "dee31a53-eb0f-45b0-af20-8543adae2e35",
   "metadata": {},
   "outputs": [],
   "source": [
    "#Visbility data for LOW which is based on the ms format from Lofar (from Sarrvesh)\n",
    "ant_number=64\n",
    "n_baselines=(ant_number*(ant_number-1))/2\n",
    "#n_baselines=1000\n",
    "obs_t=600\n",
    "int_time=15\n",
    "n_chan=5000\n",
    "n_rows = n_baselines * int( obs_t / int_time)\n",
    "# What does a single row in an averaged MS contain?\n",
    "sb_size = n_rows * ((7*8) + \\\n",
    "                         (4+(4*n_chan)) + \\\n",
    "                         (4*11) + \\\n",
    "                         (8*1) + \\\n",
    "                         (4) + \\\n",
    "                         (4 * (8 + 8*n_chan + 4*n_chan)))\n",
    "# Convert byte length to GB\n",
    "sb_size /= (1024*1024*1024)\n",
    "\n",
    "print(round(sb_size,3),'GB')"
   ]
  },
  {
   "cell_type": "code",
   "execution_count": null,
   "id": "babe3654-3d4c-4cda-a969-1d9effc68d09",
   "metadata": {},
   "outputs": [],
   "source": [
    "#Current definition used to estimate visibilty data size\n",
    "gbps_to_PB=(1/(8000*1e3))\n",
    "gbps_to_TB=(1/(8000))\n",
    "default_time_res=0.85 #sesconds\n",
    "def visibility_size_low(number_stations,n_chan,obs_time,int_time,freq_res):\n",
    "    n_baselines=(number_stations*(number_stations+1))/2\n",
    "    n_rows = n_baselines * int( obs_time / int_time)\n",
    "    default_frequency=5.4e3 #default frequency resolution =5.4kHz\n",
    "    frequency_scaling=freq_res/default_frequency\n",
    "    n_chan=n_chan/(frequency_scaling)\n",
    "    #4 polarizations already taken into account.\n",
    "    sb_size = n_rows * ((7*8) + (4+(4*n_chan)) + (4*11) + (8*1) + (4) + (4 * (8 + 8*n_chan + 4*n_chan)))\n",
    "    sGB=(1024*1024*1024)\n",
    "    sTB=(1024*1024*1024*1024)\n",
    "    sPB=(1024*1024*1024*1024*1024)\n",
    "    print(f'visib size {round(sb_size/sGB,3)}GB,{round(sb_size/sTB,4)}TB,{round(sb_size/sPB,4)}PB')\n",
    "    return sb_size/sTB"
   ]
  },
  {
   "cell_type": "markdown",
   "id": "c91f04d1-b3c7-447d-ac86-987f1b2f4d18",
   "metadata": {},
   "source": [
    "## Non imaging products (PSS, PST, Dynamic spectrum, Flowthrough and Transient Buffer"
   ]
  },
  {
   "cell_type": "code",
   "execution_count": 12,
   "id": "08920734-f0d3-44ca-8ebd-eb7d0e463755",
   "metadata": {},
   "outputs": [
    {
     "name": "stdout",
     "output_type": "stream",
     "text": [
      "Flowthrough= 3.456 TB\n",
      "Dynamic spectrum= 3.6864000000000003 TB\n",
      "PST= 4.788 TB\n",
      "PSS= 20.0 TB\n",
      "PSS_updated= 4.195 TB\n",
      "Transient Buffer= 4.58496 TB\n"
     ]
    }
   ],
   "source": [
    "#Assumptions for PSS, DYNAMIC, PST, FLowthrough, and Transient Buffer \n",
    "gbps_to_PB=(1/(8000*1e3))\n",
    "gbps_to_TB=(1/(8000))\n",
    "GBtoPB=1e6\n",
    "number_beams=1\n",
    "number_stations=199\n",
    "#Assuming a 4 hour observing block\n",
    "obs_time=4*3600\n",
    "#---------------------------Flowthrough-----------------------------------------\n",
    "datarate=1.92 #Gb/s\n",
    "flowthrough_TB=number_beams*datarate*obs_time*gbps_to_TB\n",
    "print('Flowthrough=',flowthrough_TB,'TB')\n",
    "\n",
    "#-------------------------Dynamic spectrum----------------------------------------\n",
    "datarate=2.048  #Gb/s\n",
    "dynamic_TB=number_beams*datarate*obs_time*gbps_to_TB\n",
    "print('Dynamic spectrum=',dynamic_TB,'TB')\n",
    "\n",
    "#---------------------------- PST ----------------------------------------------------\n",
    "datarate=2*1.33 \n",
    "PST=number_beams*datarate*obs_time*gbps_to_TB\n",
    "print('PST=',PST,'TB')\n",
    "\n",
    "#---------------------------- PSS ----------------------------------------------------\n",
    "#!!!!!!!!! I have assumed 5TB for PSS this needs to be confirmed !!!!!!\n",
    "scan_size=10 #GB\n",
    "n_beams=250 #number of pss search beams\n",
    "pss_TB=8*(n_beams*(scan_size/1e3))\n",
    "print('PSS=',pss_TB,'TB')\n",
    "\n",
    "#assuming folder pulse rate \n",
    "fp=0.0839 #Gbps\n",
    "#assuming single pulse is \n",
    "sp=0.0209 #Gbps\n",
    "#8 is assumining max chunk of 30 minutes\n",
    "pss_TB_updated=16*n_beams*fp*gbps_to_TB*100\n",
    "print('PSS_updated=',pss_TB_updated,'TB')\n",
    "\n",
    "#---------------------------Transient Buffer-----------------------------------------\n",
    "\n",
    "buffersize_gbps=(192 * 2 * number_stations * (1/1e-6))/1e9 #bps\n",
    "#assume 2 minutes of data is dumped per hour for a 4 hour block\n",
    "number_hours=4\n",
    "buffersize_4hrs=buffersize_gbps*gbps_to_TB*2*60*number_hours*number_beams\n",
    "\n",
    "print('Transient Buffer=',buffersize_4hrs,'TB')"
   ]
  },
  {
   "cell_type": "code",
   "execution_count": 18,
   "id": "0ee6b8a2-f3cf-4faa-986f-74c4e627d809",
   "metadata": {},
   "outputs": [
    {
     "name": "stdout",
     "output_type": "stream",
     "text": [
      "Expected data rate 44.444 gbps\n"
     ]
    }
   ],
   "source": [
    "#Quick estimate of data rates\n",
    "datasize=80 #TB\n",
    "number_of_hours=4\n",
    "no_seconds=number_of_hours*3600\n",
    "gbps_to_TB=(1/(8000))\n",
    "datarate=datasize/no_seconds/gbps_to_TB\n",
    "#frequency resolution\n",
    "print('Expected data rate',round(datarate,3),'gbps')"
   ]
  }
 ],
 "metadata": {
  "kernelspec": {
   "display_name": "Python 3 (ipykernel)",
   "language": "python",
   "name": "python3"
  },
  "language_info": {
   "codemirror_mode": {
    "name": "ipython",
    "version": 3
   },
   "file_extension": ".py",
   "mimetype": "text/x-python",
   "name": "python",
   "nbconvert_exporter": "python",
   "pygments_lexer": "ipython3",
   "version": "3.8.10"
  }
 },
 "nbformat": 4,
 "nbformat_minor": 5
}
